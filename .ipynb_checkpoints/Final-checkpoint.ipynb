{
 "cells": [
  {
   "cell_type": "code",
   "execution_count": 2,
   "id": "2557b330",
   "metadata": {},
   "outputs": [],
   "source": [
    "from urllib.request import urlopen\n",
    "import json \n",
    "import pandas as pd\n",
    "import plotly.express as px\n",
    "import plotly.graph_objects as go\n",
    "\n",
    "aut = pd.read_csv(\"autism_prevalence_studies.csv\")\n",
    "ogISO = pd.read_csv(\"all.csv\")\n",
    "## aut.head()\n",
    "## ogISO.head()\n",
    "## aut.tail()"
   ]
  },
  {
   "cell_type": "code",
   "execution_count": 9,
   "id": "0bd3a047",
   "metadata": {},
   "outputs": [
    {
     "name": "stderr",
     "output_type": "stream",
     "text": [
      "C:\\Users\\huang\\AppData\\Local\\Temp\\ipykernel_32376\\1063901924.py:11: SettingWithCopyWarning: \n",
      "A value is trying to be set on a copy of a slice from a DataFrame\n",
      "\n",
      "See the caveats in the documentation: https://pandas.pydata.org/pandas-docs/stable/user_guide/indexing.html#returning-a-view-versus-a-copy\n",
      "  trimmed['Country'][i] = 'United Kingdom of Great Britain and Northern Ireland'\n",
      "C:\\Users\\huang\\AppData\\Local\\Temp\\ipykernel_32376\\1063901924.py:9: SettingWithCopyWarning: \n",
      "A value is trying to be set on a copy of a slice from a DataFrame\n",
      "\n",
      "See the caveats in the documentation: https://pandas.pydata.org/pandas-docs/stable/user_guide/indexing.html#returning-a-view-versus-a-copy\n",
      "  trimmed['Country'][i] = 'United States of America'\n"
     ]
    },
    {
     "data": {
      "text/html": [
       "<div>\n",
       "<style scoped>\n",
       "    .dataframe tbody tr th:only-of-type {\n",
       "        vertical-align: middle;\n",
       "    }\n",
       "\n",
       "    .dataframe tbody tr th {\n",
       "        vertical-align: top;\n",
       "    }\n",
       "\n",
       "    .dataframe thead th {\n",
       "        text-align: right;\n",
       "    }\n",
       "</style>\n",
       "<table border=\"1\" class=\"dataframe\">\n",
       "  <thead>\n",
       "    <tr style=\"text-align: right;\">\n",
       "      <th></th>\n",
       "      <th>Title</th>\n",
       "      <th>Year Published</th>\n",
       "      <th>Country</th>\n",
       "      <th>ASD Prevalence Estimate per 1,000</th>\n",
       "      <th>Male:Female Sex Ratio</th>\n",
       "      <th>alpha-3</th>\n",
       "      <th>Year Range</th>\n",
       "    </tr>\n",
       "  </thead>\n",
       "  <tbody>\n",
       "    <tr>\n",
       "      <th>52</th>\n",
       "      <td>Pervasive developmental disorders in Montreal,...</td>\n",
       "      <td>2006</td>\n",
       "      <td>Canada</td>\n",
       "      <td>6.49</td>\n",
       "      <td>4.8</td>\n",
       "      <td>CAN</td>\n",
       "      <td>[2005, 2010)</td>\n",
       "    </tr>\n",
       "    <tr>\n",
       "      <th>53</th>\n",
       "      <td>Emotional, developmental, and behavioral healt...</td>\n",
       "      <td>2006</td>\n",
       "      <td>United States of America</td>\n",
       "      <td>5.00</td>\n",
       "      <td>NaN</td>\n",
       "      <td>USA</td>\n",
       "      <td>[2005, 2010)</td>\n",
       "    </tr>\n",
       "    <tr>\n",
       "      <th>54</th>\n",
       "      <td>Prevalence of disorders of the autism spectrum...</td>\n",
       "      <td>2006</td>\n",
       "      <td>United Kingdom of Great Britain and Northern I...</td>\n",
       "      <td>11.61</td>\n",
       "      <td>3.3</td>\n",
       "      <td>GBR</td>\n",
       "      <td>[2005, 2010)</td>\n",
       "    </tr>\n",
       "    <tr>\n",
       "      <th>55</th>\n",
       "      <td>Brief Report:\" The Autism Epidemic\". The regis...</td>\n",
       "      <td>2006</td>\n",
       "      <td>Sweden</td>\n",
       "      <td>5.33</td>\n",
       "      <td>3.6</td>\n",
       "      <td>SWE</td>\n",
       "      <td>[2005, 2010)</td>\n",
       "    </tr>\n",
       "    <tr>\n",
       "      <th>56</th>\n",
       "      <td>Prevalence of autistic spectrum disorders in L...</td>\n",
       "      <td>2006</td>\n",
       "      <td>Scotland</td>\n",
       "      <td>4.42</td>\n",
       "      <td>7.0</td>\n",
       "      <td>NaN</td>\n",
       "      <td>[2005, 2010)</td>\n",
       "    </tr>\n",
       "    <tr>\n",
       "      <th>...</th>\n",
       "      <td>...</td>\n",
       "      <td>...</td>\n",
       "      <td>...</td>\n",
       "      <td>...</td>\n",
       "      <td>...</td>\n",
       "      <td>...</td>\n",
       "      <td>...</td>\n",
       "    </tr>\n",
       "    <tr>\n",
       "      <th>202</th>\n",
       "      <td>Prevalence and Characteristics of Autism Spect...</td>\n",
       "      <td>2021</td>\n",
       "      <td>United States of America</td>\n",
       "      <td>23.00</td>\n",
       "      <td>4.2</td>\n",
       "      <td>USA</td>\n",
       "      <td>[2020, 2025)</td>\n",
       "    </tr>\n",
       "    <tr>\n",
       "      <th>203</th>\n",
       "      <td>Association of Race/Ethnicity and Social Disad...</td>\n",
       "      <td>2021</td>\n",
       "      <td>United Kingdom of Great Britain and Northern I...</td>\n",
       "      <td>17.60</td>\n",
       "      <td>4.3</td>\n",
       "      <td>GBR</td>\n",
       "      <td>[2020, 2025)</td>\n",
       "    </tr>\n",
       "    <tr>\n",
       "      <th>204</th>\n",
       "      <td>Prevalence of autism spectrum disorder in a la...</td>\n",
       "      <td>2022</td>\n",
       "      <td>United States of America</td>\n",
       "      <td>36.00</td>\n",
       "      <td>4.3</td>\n",
       "      <td>USA</td>\n",
       "      <td>[2020, 2025)</td>\n",
       "    </tr>\n",
       "    <tr>\n",
       "      <th>205</th>\n",
       "      <td>Prevalence of Autism Spectrum Disorder in Chil...</td>\n",
       "      <td>2022</td>\n",
       "      <td>Spain</td>\n",
       "      <td>8.65</td>\n",
       "      <td>5.4</td>\n",
       "      <td>ESP</td>\n",
       "      <td>[2020, 2025)</td>\n",
       "    </tr>\n",
       "    <tr>\n",
       "      <th>206</th>\n",
       "      <td>Prevalence and Premature Mortality Statistics ...</td>\n",
       "      <td>2022</td>\n",
       "      <td>Korea</td>\n",
       "      <td>7.12</td>\n",
       "      <td>2.7</td>\n",
       "      <td>NaN</td>\n",
       "      <td>[2020, 2025)</td>\n",
       "    </tr>\n",
       "  </tbody>\n",
       "</table>\n",
       "<p>155 rows × 7 columns</p>\n",
       "</div>"
      ],
      "text/plain": [
       "                                                 Title  Year Published  \\\n",
       "52   Pervasive developmental disorders in Montreal,...            2006   \n",
       "53   Emotional, developmental, and behavioral healt...            2006   \n",
       "54   Prevalence of disorders of the autism spectrum...            2006   \n",
       "55   Brief Report:\" The Autism Epidemic\". The regis...            2006   \n",
       "56   Prevalence of autistic spectrum disorders in L...            2006   \n",
       "..                                                 ...             ...   \n",
       "202  Prevalence and Characteristics of Autism Spect...            2021   \n",
       "203  Association of Race/Ethnicity and Social Disad...            2021   \n",
       "204  Prevalence of autism spectrum disorder in a la...            2022   \n",
       "205  Prevalence of Autism Spectrum Disorder in Chil...            2022   \n",
       "206  Prevalence and Premature Mortality Statistics ...            2022   \n",
       "\n",
       "                                               Country  \\\n",
       "52                                              Canada   \n",
       "53                            United States of America   \n",
       "54   United Kingdom of Great Britain and Northern I...   \n",
       "55                                              Sweden   \n",
       "56                                            Scotland   \n",
       "..                                                 ...   \n",
       "202                           United States of America   \n",
       "203  United Kingdom of Great Britain and Northern I...   \n",
       "204                           United States of America   \n",
       "205                                              Spain   \n",
       "206                                              Korea   \n",
       "\n",
       "     ASD Prevalence Estimate per 1,000  Male:Female Sex Ratio alpha-3  \\\n",
       "52                                6.49                    4.8     CAN   \n",
       "53                                5.00                    NaN     USA   \n",
       "54                               11.61                    3.3     GBR   \n",
       "55                                5.33                    3.6     SWE   \n",
       "56                                4.42                    7.0     NaN   \n",
       "..                                 ...                    ...     ...   \n",
       "202                              23.00                    4.2     USA   \n",
       "203                              17.60                    4.3     GBR   \n",
       "204                              36.00                    4.3     USA   \n",
       "205                               8.65                    5.4     ESP   \n",
       "206                               7.12                    2.7     NaN   \n",
       "\n",
       "       Year Range  \n",
       "52   [2005, 2010)  \n",
       "53   [2005, 2010)  \n",
       "54   [2005, 2010)  \n",
       "55   [2005, 2010)  \n",
       "56   [2005, 2010)  \n",
       "..            ...  \n",
       "202  [2020, 2025)  \n",
       "203  [2020, 2025)  \n",
       "204  [2020, 2025)  \n",
       "205  [2020, 2025)  \n",
       "206  [2020, 2025)  \n",
       "\n",
       "[155 rows x 7 columns]"
      ]
     },
     "execution_count": 9,
     "metadata": {},
     "output_type": "execute_result"
    }
   ],
   "source": [
    "## trimmed down to relevent columns\n",
    "trimmed = aut[['Title', 'Year Published', \n",
    "               'Country', 'ASD Prevalence Estimate per 1,000', \n",
    "               'Male:Female Sex Ratio']].copy()\n",
    "\n",
    "## changed \"USA\" and \"England\" to official titles\n",
    "for i in trimmed.index:\n",
    "    if trimmed['Country'][i] == 'USA':\n",
    "        trimmed['Country'][i] = 'United States of America'\n",
    "    elif trimmed['Country'][i] == 'England':\n",
    "        trimmed['Country'][i] = 'United Kingdom of Great Britain and Northern Ireland'\n",
    "\n",
    "## trim iso to just be the relevent columns\n",
    "iso = ogISO[['name', 'alpha-3']].copy()\n",
    "iso.rename(columns={'name': 'Country'}, inplace=True)\n",
    "    \n",
    "## add in 3-letter ISO country codes by left-merge\n",
    "merged_data = pd.merge(trimmed, iso, on='Country', how='left')\n",
    "\n",
    "## add in year ranges for faceted visualization\n",
    "merged_data['Year Range'] = pd.cut(merged_data['Year Published'], bins=range(1965, 2030, 5), right=False)\n",
    "\n",
    "merged_data.tail(155)"
   ]
  },
  {
   "cell_type": "code",
   "execution_count": 12,
   "id": "c3187f3e",
   "metadata": {},
   "outputs": [
    {
     "data": {
      "application/vnd.plotly.v1+json": {
       "config": {
        "plotlyServerURL": "https://plot.ly"
       },
       "data": [
        {
         "coloraxis": "coloraxis",
         "geo": "geo",
         "hovertemplate": "<b>%{hovertext}</b><br><br>alpha-3=%{location}<br>ASD Prevalence Estimate per 1,000=%{z}<extra></extra>",
         "hovertext": [
          "Epidemiology of Autistic Conditions in Young Children",
          "Epidemiology of infantile Autism",
          "A Prevalence investigation of Childhood Psychoses",
          "The prevalence of early childhood autism: comparison of administrative and epidemiological studies",
          "Severe impairments of social interaction and associated abnormalities in children: Epidemiology and classification",
          "The epidemiological study of autism in Fukushima-ken",
          "Childhood psychosis in a northern Swedish county: Some preliminary findings from an epidemiological survey",
          "Prevalence of childhood autism in Ireland.",
          "Infantile autism and other child psychoses in a Swedish urban region",
          "A community survey of infantile autism",
          "Autism and autism-like conditions in Swedish rural and urban areas: a population study",
          "High prevalence of infantile autism in Kurume City, Japan",
          "A Prevalence Study of Pervasive Developmental Disorders in North Dakota",
          "First report of a Canadian epidemiological study of autistic syndromes",
          "Epidemiology of infantile autism in southern Ibaraki, japan: differences in prevalence in birth cohorts",
          "An epidemiological study of infantile autism in a French department (Rhône): A research note",
          "The prevalence of autism in Nagoya, Japan: A total population study",
          "The UCLA-University of Utah epidemiologic survey of autism: prevalence",
          "Is autism more common now than ten years ago?",
          "Epidemiological and clinical study of autistic children in Yogyakarta, Indonesia",
          "Prevalence of infantile autism in four French regions",
          "Cumulative incidence and prevalence of childhood autism in children in Japan",
          "Autism and associated medical disorders in a French epidemiological survey",
          "Autism in 3-6 year-old children in a suburb of Goteborg, Sweden",
          "The changing prevalence of autistic disorder in a Welsh health district",
          "Autism and related disorders: Epidemiological findings in a Norwegian study using ICD-10 diagnostic criteria",
          "Brief report: autism and asperger syndrome in seven-year-old children: a total population study",
          "Autism and measles, mumps, and rubella vaccine: No epidemiological evidence for a causal association",
          "Prevalence and impact of parent-reported disabling mental health conditions among U.S. children",
          "A screening instrument for autism at 18 months of age: a 6-year follow-up study",
          "Prevalence of autism in Missouri: changing trends and the effect of a comprehensive state autism project",
          "Changes in the incidence if childhood autism and other autistic spectrum disorders in preschool children from two areas of the west midlands, UK",
          "Autism in Northern Finland",
          "Prevalence of autism in Iceland",
          "Prevalence of pervasive developmental disorders in the British Nationwide survey of Child mental health",
          "Pervasive Developmental Disorders in Preschool Children",
          "Prevalence of Autism in a United States Population: The Brick Township, New Jersey, Investigation",
          "The changing prevalence of autism in California",
          "Brief report: prevalence of autism spectrum conditions in children aged 5-11 years in Cambridgeshire, UK.",
          "Prevalence of autism in a US metropolitan area",
          "Analysis of prevalence trends of autism spectrum disorder in Minnesota",
          "Prevalence of autism and parentally reported triggers in a north east London population",
          "Prevalence of autistic spectrum disorder in children attending mainstream schools in a Welsh education authority",
          "A comparative evaluation of the effects of MMR immunization and mercury doses from thimerosal-containing childhood vaccines on the population prevalence of autism",
          "Childhood autism spectrum disorder in the Barwon region: A community based study",
          "Does routine health surveillance contribute to the early detection of children with pervasive developmental disorders? - An epidemiological study in Kent, U.K.",
          "The incidence of pervasive developmental disorders: a Danish population-based study",
          "Pervasive Developmental Disorders in Preschool Children: Confirmation of High Prevalence",
          "Cumulative incidence of childhood autism: a total population study of better acuracy and precision",
          "National autism prevalence trends from United States special education data",
          "Parents and teachers reports of DSM-IV psychopathological symptoms in preschool children: differences between urban-rural Spanish areas",
          "Autism and mental retardation of young children in Chi",
          "Pervasive developmental disorders in Montreal, Quebec, Canada: Prevalence and links with immunizations",
          "Emotional, developmental, and behavioral health of American children and their families: a report from the 2003 National Survey of Children's Health",
          "Prevalence of disorders of the autism spectrum in a population cohort of children in South Thames: the Special Needs and Autism Project (SP)",
          "Brief Report:\" The Autism Epidemic\". The registered prevalence of autism in a Swedish urban area",
          "Prevalence of autistic spectrum disorders in Lothian, Scotland: an estimate using the \"capture-recapture: technique",
          "Prevalence of pervasive developmental disorders in two Canadian provinces",
          "The population prevalence of child psychiatric disorders in Danish 8- to 9-year-old children",
          "The contribution of diagnostic substitution to the growing administrative prevalence of autism in US special education",
          "Prevalence of autism spectrum disorders - Autism and Developmental Disabilites Monitoring Network, six sites, United States, 2000",
          "Prevalence of autism spectrum disorders - Autism and Developmental Disabilites Monitoring Network, 14 sites, United States, 2002",
          "Trends for special education code assignment for autism: Implication for prevalence estimates",
          "Autism in the Faroe Islands. An epidemiological study",
          "Maternal and paternal age an risk of autism spectrum disorders",
          "Diagnostic trends in autistic spectrum disorders in the South Wales valleys",
          "Epidemiology of autism spectrum disorder in Portugal: prevalence, clinical characterization, and medical conditions",
          "Prevalence of pervasive developmental disorders in preschool children in the UAE",
          "Trends in autism prevalence: diagnostic substitution revisited",
          "Autism prevalence trends over time in Denmark: changes in prevalence and age at diagnosis",
          "Epidemiological study of autism spectrum disorder in Chi",
          "The prevalence of autism in Australia. Can it be established from existing data?",
          "Epidemiological findings of pervasive developmental disorders in a Venezuelan study",
          "Prevalence and characteristics of autistic spectrum disorders in the ALSPAC cohort",
          "Prevalence and Characteristics of Children with Autism-Spectrum Disorders",
          "Prevalence of autism-spectrum conditions: UK school-based population study",
          "Prevalence of autism spectrum disorders - Autism and Developmental Disabilities Monitoring Network, United States, 2006",
          "Autism spectrum disorders in preschool-aged children: Prevalence and comparison to a school-aged population",
          "Autism spectrum disorders in young children: effect of changes in diagnostic practices",
          "Prevalence of treated autism spectrum disorders in Aruba",
          "Screening of 18-24-month-old children for autism in a semi-urban community in Sri Lanka",
          "Prevalence of parent-reported diagnosis of autism spectrum disorder among children in the US, 2007",
          "Prevalence of pervasive developmental disorders among children at the English Montreal school board",
          "The prevalence of autism spectrum disorders: impact of diagnostic instrument and non-response bias",
          "Trends in the prevalence of autism on the basis of special education data",
          "Autism spectrum disorder diagnoses in Stockholm preschoolers",
          "Brief report: Prevalence of autistic disorders in the Sultate of Oman",
          "Trends in the prevalence of developmental disabilities in US children, 1997-2008",
          "Socioeconomic Status and the Increased Prevalence of Autism in California",
          "A comparison of autism trends in Denmark and Western Australia",
          "A comparison of autism trends in Denmark and Western Australia",
          "Prevalence and incidence of autism spectrum disorders among Prevalence and incidence of autism spectrum disorders among national health insurance enrollees in Taiwan from 1996 to 2005 health insurance enrollees in Taiwan from 1996 to 2005",
          "Birth prevalence of autism spectrum disorders in the San Francisco Bay area by demographic and ascertainment source characteristics",
          "Prevalence of autism spectrum disorders in total population sample",
          "Brief report: prevalence of pervasive developmental disorder in Brazil: a pilot study",
          "Epidemiology of autism spectrum disorders in adults in the community in England",
          "Autism spectrum disorders according to DSM-IV-TR and comparison with DSM-5 draft criteria: an epidemiological study",
          "Changes in administrative prevalence of autism spectrum disorders: contribution of special education from 2002-2008",
          "The Arkansas Autism Developmental Disabilities Monitoring (AR ADDM) project: statewide autism surveillance in a rural state",
          "The rising prevalence of autism: A perspective longitudinal study in the Faroe Islands",
          "Prevalence of autism spectrum disorders--Autism and developmental disabilities monitoring network, 14 sites, United States, 2008",
          "Autism spectrum disorder, ADHD, epilepsy, and cerebral palsy in Norwegian children",
          "A national study of the prevalence of autism among five-year-old children in Iran",
          "Observed prevalence of autism spectrum disorders in two Norwegian counties",
          "Autism spectrum disorders in the Stockholm youth cohort: Design, prevalence, and validity",
          "Gender and geographic differences in the prevalence of autism spectrum disorders in children: analysis of data from the national disability registry of Taiwan",
          "The prevalence of autism spectrum disorders in toddlers: A population study of 2-year-old Swedish children",
          "Prevalence of autism spectrum disorders in Hispanic and non-Hispanic white children",
          "Parent-reported prevalence of autism spectrum disorders in US-born children: an assessment of changes within birth cohorts from the 2003 to the 2007 National Survey of Children's Health",
          "Epidemiology of autistic disorder in Bahrain: prevalence and obstetric and familial characteristics",
          "Prevalence and incidence of autism spectrum disorder in an Israeli population",
          "Trends in the prevalence of childhood disability: analysis of data from the national disability registry of Taiwan, 2000-2011",
          "Prevalence of autism spectrum disorders in Icelandic birth cohort",
          "Differences across counties in the registered prevalence of autism, ADHD, epilepsy and cerebral palsy in Norway",
          "Prevalence and incidence rates of autism in the UK: Time trend from 2004-2010 in children aged 8 years",
          "Changes in prevalence of parent-reported autism spectrum disorder in school-aged U.S. children: 2007 to 2011-2012",
          "Prevalence of autism spectrum disorder among children aged 8 years - Autism and developmental disabilities monitoring network, 11 sites, United States, 2010",
          "Prevalence and early signs of autism spectrum disorder (ASD) among 18-36 month-old children of Tianjin in China",
          "A comparison of DSM-IV pervasive developmental disorder and DSM-5 autism spectrum disorder prevalence in an epidemiologic sample",
          "The changing prevalence of autism in three regions of Canada",
          "Adaptation of the \"ten questions\" to screen for autism and other neurodevelopmental disorders in Uganda",
          "Prevalence of parent-reported ASD and ADHD in the UK: findings from the Millennium Cohort Study",
          "Increasing autism prevalence in metropolitan New Jersey",
          "Parental concerns, socioeconomic status, and the risk of autism spectrum conditions in a population-based study",
          "Estimated prevalence of autism and other developmental disabilities following questionnaire changes in the 2014 natiol health interview survey",
          "The increasing prevalence of reported diagnoses of childhood psychiatric disorders: a descriptive multinational comparison",
          "The increasing prevalence of reported diagnoses of childhood psychiatric disorders: a descriptive multinational comparison",
          "The increasing prevalence of reported diagnoses of childhood psychiatric disorders: a descriptive multinational comparison",
          "The increasing prevalence of reported diagnoses of childhood psychiatric disorders: a descriptive multinational comparison",
          "Socioeconomic Disparities and Prevalence of Autism Spectrum Disorders and Intellectual Disability",
          "Changes in prevalence of autism spectrum disorders in 2001-2011: findings from the Stockholm youth cohort",
          "Autism phenotype versus registered diagnosis in Swedish children: prevalence trends over 10 years in general population samples",
          "Incidence and cohort prevalence for autism spectrum disorders in the Avalon Peninsula, Newfoundland and Labrador",
          "Exploring the Underdiagnosis and Prevalence of Autism Spectrum Conditions in Beijing",
          "Low but increasing prevalence of autism spectrum disorders in a French area from register-based data",
          "Trends in the prevalence of autism spectrum disorder, cerebral palsy, hearing loss, intellectual disability, and vision impairment, metropolitan atlanta, 1991-2010",
          "Prevalence of autism spectrum disorders in Ecuador: A pilot study in Quito",
          "Parental Age and Autism Spectrum Disorders Among New York City Children 0-36 Months of Age",
          "Screening for Autism in Iranian Preschoolers: Contrasting M-CHAT and a Scale Developed in Iran",
          "Neurodevelopmental delay among children under the age of three years at immunization clinics in Lagos State, Nigeria - Preliminary report",
          "Operationalisation of the European Protocol for Autism Prevalence (EPAP) for Autism Spectrum Disorder Prevalence Measurement in Ireland",
          "Population-Based Prevalence of Intellectual Disability and Autism Spectrum Disorders in Western Australia: A Comparison With Previous Estimates",
          "Prevalence of Autism Spectrum Disorder in Nurseries in Lebanon: A Cross Sectional Study",
          "Prevalence and characteristics of autism apectrum disorder among 4-year-old children in the Autism and Developmental Disabilities Monitoring Network",
          "Prevalence and socioeconomic correlates of autism among children attending primary and secondary schools in south east Nigeria",
          "Prevalence of autism apectrum aisorders in Guanajuato, Mexico: The Leon survey",
          "Autism spectrum disorder: Presentation and prevalence in a nationally representative Australian sample",
          "Prevalence of autism spectrum disorders in a semiurban community in South India",
          "Prevalence and characteristics of autism spectrum disorders among 8-years -- Autism and developmental disabilities monitoring network, 11 sites, United States, 2012",
          "Autism Spectrum Disorder Among US Children (2002-2010): Socioeconomic, Racial, and Ethnic Disparities",
          "Autism spectrum disorder: Updated prevalence and comparison of two birth cohorts in a nationally representative Australian sample",
          "Prevalence of Autism Spectrum Disorder among Rural, Urban, and Tribal Children (1-10 Years of Age)",
          "Prevalence of autism spectrum disorder and autistic symptoms in a school-based cohort of children in Kolkata, India",
          "The prevalence of autism spectrum disorders in West Pomeranian and Pomeranian Regions of Poland",
          "Brief Report: Estimated Prevalence of a Community Diagnosis of Autism Spectrum Disorder by Age 4 Years in Children from Selected Areas in the United States in 2010: Evaluation of Birth Cohort Effects",
          "Brief Report: Prevalence of Co-occurring Epilepsy and Autism Spectrum Disorder: The U.S. National Survey of Children's Health 2011-2012",
          "Prevalence of Autism Spectrum Disorders with and without Intellectual Disability by Gestational Age at Birth in the Stockholm Youth Cohort: a Register Linkage Study",
          "Estimated Prevalence of Children With Diagnosed Developmental Disabilities in the United States, 2014-2016",
          "The prevalence of parent-reported autism spectrum disorder among US children.",
          "Prevalence of childhood neurodevelopmental disorders across five regions in India",
          "Prevalence of autism spectrum disorder among children aged 8 years - Autism and developmental disabilities monitoring network, 11 sites, United States, 2014",
          "Prevalence of autism spectrum disorder among children and adolescents, 2014-2016",
          "The estimated prevalence of autism in school-aged children living in rural Nepal using a population-based screening tool",
          "Prevalence of long-term health conditions in adults with autism: Prevalence of long-term health conditions in adults with autism: observational study of a whole country population study of a whole country population",
          "Diagnoses of Autism Spectrum Disorders in Germany: Time Trends in Administrative Prevalence and Diagnostic Stability",
          "Prevalence and correlates of autism spectrum disorders in Quebec",
          "California autism prevalence trends from 1931 to 2014 and comparison to national ASD data from IDEA and ADDM",
          "Prevalence of Autism Spectrum Disorder in a large Italian catchment area: a school-based population study within the ASDEU project",
          "Prevalence of DSM-5 Autism Spectrum Disorder Among School-Based Children Aged 3-12 Years in Shanghai, China",
          "Prevalence of Autism Spectrum Disorder (ASD) among the children aged 18-36 months in a rural community of Bangladesh: A cross sectional study",
          "Prevalence and Characteristics of Autism Spectrum Disorder Among Spanish School-Age Children",
          "Autism prevalence in Chi is comparable to Western prevalence",
          "The prevalence and treatment patterns of autism spectrum disorder in the United States, 2016",
          "Assessment of racial and ethnic bias in autism spectrum disorder prevalence estimates from a US surveillance system",
          "Prevalence and Trends of Developmental Disabilities among Children in the United States: 2009-2017",
          "Prevalence and characteristics of autism spectrum disorder among children 4 years - Early autism and developmental disabilities monitoring network, seven sites, United Stated, 2010, 2012, and 2014",
          "Revisiting the prevalence of autism spectrum disorder among Omani children: A multicentre study",
          "Prevalence and correlates of autism spectrum disorder in Qatar: A national study",
          "Prevalence of DSM-5 mental disorders in a nationally representative sample of children in Taiwan: Methodology and main findings",
          "Prevalence of autism spectrum disorders and their relation to selected socio-demographic factors among children aged 18-30 months in northern Vietnam, 2017",
          "Prevalence of autism and its comorbidities and the relationship with maternal psychopathology: A national population-based study",
          "Temporal and Geographical Variability of Prevalence and Incidence of Autism Spectrum Disorder Diagnoses in Children in Catalonia, Spain",
          "Autism Prevalence in the Medicaid Program and Healthcare Utilization and Costs Among Adult Enrollees Diagnosed with Autism",
          "Annual trends in prevalence and incidence of autism spectrum disorders in Manitoba preschoolers and toddlers: 2004-2015",
          "Prevalence of autism spectrum disorder among children aged 8 years - Autism and developmental disabilities monitoring network, 11 sites, United States, 2016",
          "Early identification of autism spectrum disorder among children aged 4 years - Early autism and developmental disabilities monitoring network, six sites, United States, 2016",
          "Prevalence and economic burden of autism spectrum disorder in South Korea using national health insurance data from 2008 to 2015",
          "Prevalence and cumulative incidence of autism spectrum disorders and the patterns of co-occurring neurodevelopmental disorders in a total population sample of 5-year-old children",
          "Prevalence of Children Aged 3-17 Years With Developmental Disabilities, by Urbanicity: United States, 2015-2018",
          "The ASDEU autism prevalence study in northern Spain",
          "Autism spectrum disorder prevalence in children aged 12-13 years from the Longitudinal Study of Australian Children",
          "Prevalence Estimates of Neurodevelopmental Disorders in Japan: A community sample questionnaire study",
          "Autism Spectrum Disorders in Greece: Nationwide Prevalence in 10-11 Year-Old Children and Regional Disparities",
          "Prevalence of Autism Spectrum Disorder in Chi: A Nationwide Multi-center Population-based Study Among Children Aged 6 to 12 Years",
          "California Autism Prevalence by County and Race/Ethnicity: Declining Trends Among Wealthy Whites",
          "School-Based Autism Rates by State: An Analysis of Demographics, Political Leanings, and Differential Identification",
          "Neurodevelopmental disorders among Spanish school-age children: prevalence and sociodemographic correlates",
          "Identifying Children and Youth with Autism Spectrum Diorder in Electronic Medical Records: Examining Health System Utilization and Comorbidities",
          "Racial/ethnic disparities in the prevalence and trends of autism specrum disorder in US children and adolescents",
          "Autism spectrum disorder prevalence and associated sociodemographic factors in the school population: EPINED study",
          "Prevalence of autism spectrum disorder among Saudi children between 2 and 4 years old in Riyadh",
          "Prevalence of Autism Spectrum Disorder Among Children and Adolescents in the United States From 2019 to 2020",
          "Prevalence and Characteristics of Autism Spectrum Disorder Among Children Aged 8 Years - Autism and Developmental Disabilities Monitoring Network, 11 Sites, United States, 2018",
          "Association of Race/Ethnicity and Social Disadvantage With Autism Prevalence in 7 Million School Children in England",
          "Prevalence of autism spectrum disorder in a large, diverse metropolitan area: Variation by sociodemographic factors",
          "Prevalence of Autism Spectrum Disorder in Children in Andalusia (Spain)",
          "Prevalence and Premature Mortality Statistics of Autism Spectrum Disorder Among Children in Korea: A Nationwide Population-Based Birth Cohort Study"
         ],
         "locations": [
          "GBR",
          "USA",
          "DNK",
          "GBR",
          "GBR",
          "JPN",
          "SWE",
          "IRL",
          "SWE",
          "DEU",
          "SWE",
          "JPN",
          "USA",
          "CAN",
          "JPN",
          "FRA",
          "JPN",
          "USA",
          "SWE",
          "IDN",
          "FRA",
          "JPN",
          "FRA",
          "SWE",
          null,
          "NOR",
          "SWE",
          "GBR",
          "USA",
          "GBR",
          "USA",
          "GBR",
          "FIN",
          "ISL",
          null,
          "GBR",
          "USA",
          "USA",
          "GBR",
          "USA",
          "USA",
          "GBR",
          null,
          "USA",
          "AUS",
          "GBR",
          "DNK",
          "GBR",
          "JPN",
          "USA",
          "ESP",
          "CHN",
          "CAN",
          "USA",
          "GBR",
          "SWE",
          null,
          "CAN",
          "DNK",
          "USA",
          "USA",
          "USA",
          "CAN",
          "DNK",
          "USA",
          null,
          "PRT",
          "ARE",
          "CAN",
          "DNK",
          "CHN",
          "AUS",
          null,
          "GBR",
          "USA",
          "GBR",
          "USA",
          "USA",
          "AUS",
          null,
          "LKA",
          "USA",
          "CAN",
          "NOR",
          "USA",
          "SWE",
          "OMN",
          "USA",
          "USA",
          "DNK",
          "AUS",
          null,
          "USA",
          null,
          "BRA",
          "GBR",
          "FIN",
          "USA",
          "USA",
          "DNK",
          "USA",
          "NOR",
          null,
          "NOR",
          "SWE",
          null,
          "SWE",
          "USA",
          "USA",
          "BHR",
          "ISR",
          null,
          "ISL",
          "NOR",
          null,
          "USA",
          "USA",
          "CHN",
          null,
          "CAN",
          "UGA",
          null,
          "USA",
          null,
          "USA",
          "DNK",
          "FIN",
          "SWE",
          "AUS",
          "FRA",
          "SWE",
          "SWE",
          "CAN",
          "CHN",
          "FRA",
          "USA",
          "ECU",
          "USA",
          null,
          "NGA",
          "IRL",
          "AUS",
          "LBN",
          "USA",
          "NGA",
          "MEX",
          "AUS",
          "IND",
          "USA",
          "USA",
          "AUS",
          "IND",
          "IND",
          "POL",
          "USA",
          "USA",
          "SWE",
          "USA",
          "USA",
          "IND",
          "USA",
          "USA",
          "NPL",
          null,
          "DEU",
          "CAN",
          "USA",
          "ITA",
          "CHN",
          "BGD",
          "ESP",
          "CHN",
          "USA",
          "USA",
          "USA",
          "USA",
          "OMN",
          "QAT",
          null,
          null,
          null,
          "ESP",
          "USA",
          "CAN",
          "USA",
          "USA",
          null,
          "JPN",
          "USA",
          null,
          "AUS",
          "JPN",
          "GRC",
          "CHN",
          "USA",
          "USA",
          "ESP",
          "CAN",
          "USA",
          "ESP",
          "SAU",
          "USA",
          "USA",
          "GBR",
          "USA",
          "ESP",
          null
         ],
         "name": "",
         "type": "choropleth",
         "z": [
          0.45,
          0.077,
          0.43,
          4.48,
          0.49,
          0.525,
          0.56,
          0.43,
          0.2,
          0.19,
          0.66,
          1.55,
          0.33,
          1.01,
          1.38,
          0.45,
          1.3,
          0.357,
          0.95,
          1.2,
          0.49,
          2.11,
          0.54,
          4.6,
          0.72,
          0.52,
          12.1,
          1.01,
          0.38,
          5.79,
          0.14,
          2.02,
          1.39,
          1.32,
          2.61,
          6.26,
          6.7,
          1.1,
          5.7,
          3.4,
          6.6,
          3.05,
          2.02,
          2.78,
          3.92,
          8.28,
          3.02,
          5.87,
          4.12,
          2.41,
          17.2,
          1.1,
          6.49,
          5,
          11.61,
          5.33,
          4.42,
          2.91,
          11,
          3.1,
          6.7,
          6.6,
          4.31,
          5.6,
          4.5,
          6.12,
          0.92,
          2.9,
          4.31,
          6.19,
          1.6,
          6.25,
          1.7,
          6.19,
          6.2,
          15.7,
          9,
          8,
          2.34,
          5.3,
          10.7,
          11,
          7.91,
          8.7,
          9,
          6.2,
          0.14,
          4.7,
          4.9,
          6.85,
          5.1,
          2.9,
          4.7,
          26.4,
          2.72,
          9.8,
          8.4,
          13,
          6.9,
          9.4,
          11.3,
          3.22,
          0.63,
          5.1,
          11.5,
          2.53,
          6.4,
          15,
          18.9,
          0.43,
          4.8,
          2.21,
          12,
          6,
          2.4,
          20,
          14.7,
          2.75,
          22,
          10.45,
          12,
          17,
          17.4,
          14,
          22.4,
          11.4,
          7.5,
          6.6,
          5,
          3.6,
          15.4,
          4.2,
          21.6,
          11.9,
          3.65,
          15.5,
          1.1,
          4.3,
          9.52,
          1.33,
          10,
          4.1,
          15.3,
          13.4,
          29,
          8.7,
          25,
          2.33,
          14.6,
          11.9,
          39,
          1.5,
          2.3,
          3.5,
          8,
          18,
          21,
          24.7,
          25,
          14,
          16.8,
          24.7,
          3,
          1.77,
          3.8,
          12.2,
          11.8,
          7.9,
          0.758,
          0.75,
          15.5,
          10.8,
          27.9,
          12.6,
          17.4,
          17,
          2.04,
          11.4,
          10,
          7.52,
          1.8,
          12.3,
          3.66,
          9.7,
          18.5,
          15.6,
          0.11,
          32.2,
          25,
          5.9,
          43.6,
          19,
          11.5,
          7,
          15,
          12.3,
          7,
          13.2,
          24.9,
          15.3,
          25,
          31.4,
          23,
          17.6,
          36,
          8.65,
          7.12
         ]
        }
       ],
       "layout": {
        "coloraxis": {
         "cmax": 12,
         "cmin": 0,
         "colorbar": {
          "title": {
           "text": "ASD Prevalence Estimate per 1,000"
          }
         },
         "colorscale": [
          [
           0,
           "#440154"
          ],
          [
           0.1111111111111111,
           "#482878"
          ],
          [
           0.2222222222222222,
           "#3e4989"
          ],
          [
           0.3333333333333333,
           "#31688e"
          ],
          [
           0.4444444444444444,
           "#26828e"
          ],
          [
           0.5555555555555556,
           "#1f9e89"
          ],
          [
           0.6666666666666666,
           "#35b779"
          ],
          [
           0.7777777777777778,
           "#6ece58"
          ],
          [
           0.8888888888888888,
           "#b5de2b"
          ],
          [
           1,
           "#fde725"
          ]
         ]
        },
        "geo": {
         "center": {},
         "domain": {
          "x": [
           0,
           1
          ],
          "y": [
           0,
           1
          ]
         }
        },
        "legend": {
         "tracegroupgap": 0
        },
        "template": {
         "data": {
          "bar": [
           {
            "error_x": {
             "color": "#2a3f5f"
            },
            "error_y": {
             "color": "#2a3f5f"
            },
            "marker": {
             "line": {
              "color": "#E5ECF6",
              "width": 0.5
             },
             "pattern": {
              "fillmode": "overlay",
              "size": 10,
              "solidity": 0.2
             }
            },
            "type": "bar"
           }
          ],
          "barpolar": [
           {
            "marker": {
             "line": {
              "color": "#E5ECF6",
              "width": 0.5
             },
             "pattern": {
              "fillmode": "overlay",
              "size": 10,
              "solidity": 0.2
             }
            },
            "type": "barpolar"
           }
          ],
          "carpet": [
           {
            "aaxis": {
             "endlinecolor": "#2a3f5f",
             "gridcolor": "white",
             "linecolor": "white",
             "minorgridcolor": "white",
             "startlinecolor": "#2a3f5f"
            },
            "baxis": {
             "endlinecolor": "#2a3f5f",
             "gridcolor": "white",
             "linecolor": "white",
             "minorgridcolor": "white",
             "startlinecolor": "#2a3f5f"
            },
            "type": "carpet"
           }
          ],
          "choropleth": [
           {
            "colorbar": {
             "outlinewidth": 0,
             "ticks": ""
            },
            "type": "choropleth"
           }
          ],
          "contour": [
           {
            "colorbar": {
             "outlinewidth": 0,
             "ticks": ""
            },
            "colorscale": [
             [
              0,
              "#0d0887"
             ],
             [
              0.1111111111111111,
              "#46039f"
             ],
             [
              0.2222222222222222,
              "#7201a8"
             ],
             [
              0.3333333333333333,
              "#9c179e"
             ],
             [
              0.4444444444444444,
              "#bd3786"
             ],
             [
              0.5555555555555556,
              "#d8576b"
             ],
             [
              0.6666666666666666,
              "#ed7953"
             ],
             [
              0.7777777777777778,
              "#fb9f3a"
             ],
             [
              0.8888888888888888,
              "#fdca26"
             ],
             [
              1,
              "#f0f921"
             ]
            ],
            "type": "contour"
           }
          ],
          "contourcarpet": [
           {
            "colorbar": {
             "outlinewidth": 0,
             "ticks": ""
            },
            "type": "contourcarpet"
           }
          ],
          "heatmap": [
           {
            "colorbar": {
             "outlinewidth": 0,
             "ticks": ""
            },
            "colorscale": [
             [
              0,
              "#0d0887"
             ],
             [
              0.1111111111111111,
              "#46039f"
             ],
             [
              0.2222222222222222,
              "#7201a8"
             ],
             [
              0.3333333333333333,
              "#9c179e"
             ],
             [
              0.4444444444444444,
              "#bd3786"
             ],
             [
              0.5555555555555556,
              "#d8576b"
             ],
             [
              0.6666666666666666,
              "#ed7953"
             ],
             [
              0.7777777777777778,
              "#fb9f3a"
             ],
             [
              0.8888888888888888,
              "#fdca26"
             ],
             [
              1,
              "#f0f921"
             ]
            ],
            "type": "heatmap"
           }
          ],
          "heatmapgl": [
           {
            "colorbar": {
             "outlinewidth": 0,
             "ticks": ""
            },
            "colorscale": [
             [
              0,
              "#0d0887"
             ],
             [
              0.1111111111111111,
              "#46039f"
             ],
             [
              0.2222222222222222,
              "#7201a8"
             ],
             [
              0.3333333333333333,
              "#9c179e"
             ],
             [
              0.4444444444444444,
              "#bd3786"
             ],
             [
              0.5555555555555556,
              "#d8576b"
             ],
             [
              0.6666666666666666,
              "#ed7953"
             ],
             [
              0.7777777777777778,
              "#fb9f3a"
             ],
             [
              0.8888888888888888,
              "#fdca26"
             ],
             [
              1,
              "#f0f921"
             ]
            ],
            "type": "heatmapgl"
           }
          ],
          "histogram": [
           {
            "marker": {
             "pattern": {
              "fillmode": "overlay",
              "size": 10,
              "solidity": 0.2
             }
            },
            "type": "histogram"
           }
          ],
          "histogram2d": [
           {
            "colorbar": {
             "outlinewidth": 0,
             "ticks": ""
            },
            "colorscale": [
             [
              0,
              "#0d0887"
             ],
             [
              0.1111111111111111,
              "#46039f"
             ],
             [
              0.2222222222222222,
              "#7201a8"
             ],
             [
              0.3333333333333333,
              "#9c179e"
             ],
             [
              0.4444444444444444,
              "#bd3786"
             ],
             [
              0.5555555555555556,
              "#d8576b"
             ],
             [
              0.6666666666666666,
              "#ed7953"
             ],
             [
              0.7777777777777778,
              "#fb9f3a"
             ],
             [
              0.8888888888888888,
              "#fdca26"
             ],
             [
              1,
              "#f0f921"
             ]
            ],
            "type": "histogram2d"
           }
          ],
          "histogram2dcontour": [
           {
            "colorbar": {
             "outlinewidth": 0,
             "ticks": ""
            },
            "colorscale": [
             [
              0,
              "#0d0887"
             ],
             [
              0.1111111111111111,
              "#46039f"
             ],
             [
              0.2222222222222222,
              "#7201a8"
             ],
             [
              0.3333333333333333,
              "#9c179e"
             ],
             [
              0.4444444444444444,
              "#bd3786"
             ],
             [
              0.5555555555555556,
              "#d8576b"
             ],
             [
              0.6666666666666666,
              "#ed7953"
             ],
             [
              0.7777777777777778,
              "#fb9f3a"
             ],
             [
              0.8888888888888888,
              "#fdca26"
             ],
             [
              1,
              "#f0f921"
             ]
            ],
            "type": "histogram2dcontour"
           }
          ],
          "mesh3d": [
           {
            "colorbar": {
             "outlinewidth": 0,
             "ticks": ""
            },
            "type": "mesh3d"
           }
          ],
          "parcoords": [
           {
            "line": {
             "colorbar": {
              "outlinewidth": 0,
              "ticks": ""
             }
            },
            "type": "parcoords"
           }
          ],
          "pie": [
           {
            "automargin": true,
            "type": "pie"
           }
          ],
          "scatter": [
           {
            "marker": {
             "colorbar": {
              "outlinewidth": 0,
              "ticks": ""
             }
            },
            "type": "scatter"
           }
          ],
          "scatter3d": [
           {
            "line": {
             "colorbar": {
              "outlinewidth": 0,
              "ticks": ""
             }
            },
            "marker": {
             "colorbar": {
              "outlinewidth": 0,
              "ticks": ""
             }
            },
            "type": "scatter3d"
           }
          ],
          "scattercarpet": [
           {
            "marker": {
             "colorbar": {
              "outlinewidth": 0,
              "ticks": ""
             }
            },
            "type": "scattercarpet"
           }
          ],
          "scattergeo": [
           {
            "marker": {
             "colorbar": {
              "outlinewidth": 0,
              "ticks": ""
             }
            },
            "type": "scattergeo"
           }
          ],
          "scattergl": [
           {
            "marker": {
             "colorbar": {
              "outlinewidth": 0,
              "ticks": ""
             }
            },
            "type": "scattergl"
           }
          ],
          "scattermapbox": [
           {
            "marker": {
             "colorbar": {
              "outlinewidth": 0,
              "ticks": ""
             }
            },
            "type": "scattermapbox"
           }
          ],
          "scatterpolar": [
           {
            "marker": {
             "colorbar": {
              "outlinewidth": 0,
              "ticks": ""
             }
            },
            "type": "scatterpolar"
           }
          ],
          "scatterpolargl": [
           {
            "marker": {
             "colorbar": {
              "outlinewidth": 0,
              "ticks": ""
             }
            },
            "type": "scatterpolargl"
           }
          ],
          "scatterternary": [
           {
            "marker": {
             "colorbar": {
              "outlinewidth": 0,
              "ticks": ""
             }
            },
            "type": "scatterternary"
           }
          ],
          "surface": [
           {
            "colorbar": {
             "outlinewidth": 0,
             "ticks": ""
            },
            "colorscale": [
             [
              0,
              "#0d0887"
             ],
             [
              0.1111111111111111,
              "#46039f"
             ],
             [
              0.2222222222222222,
              "#7201a8"
             ],
             [
              0.3333333333333333,
              "#9c179e"
             ],
             [
              0.4444444444444444,
              "#bd3786"
             ],
             [
              0.5555555555555556,
              "#d8576b"
             ],
             [
              0.6666666666666666,
              "#ed7953"
             ],
             [
              0.7777777777777778,
              "#fb9f3a"
             ],
             [
              0.8888888888888888,
              "#fdca26"
             ],
             [
              1,
              "#f0f921"
             ]
            ],
            "type": "surface"
           }
          ],
          "table": [
           {
            "cells": {
             "fill": {
              "color": "#EBF0F8"
             },
             "line": {
              "color": "white"
             }
            },
            "header": {
             "fill": {
              "color": "#C8D4E3"
             },
             "line": {
              "color": "white"
             }
            },
            "type": "table"
           }
          ]
         },
         "layout": {
          "annotationdefaults": {
           "arrowcolor": "#2a3f5f",
           "arrowhead": 0,
           "arrowwidth": 1
          },
          "autotypenumbers": "strict",
          "coloraxis": {
           "colorbar": {
            "outlinewidth": 0,
            "ticks": ""
           }
          },
          "colorscale": {
           "diverging": [
            [
             0,
             "#8e0152"
            ],
            [
             0.1,
             "#c51b7d"
            ],
            [
             0.2,
             "#de77ae"
            ],
            [
             0.3,
             "#f1b6da"
            ],
            [
             0.4,
             "#fde0ef"
            ],
            [
             0.5,
             "#f7f7f7"
            ],
            [
             0.6,
             "#e6f5d0"
            ],
            [
             0.7,
             "#b8e186"
            ],
            [
             0.8,
             "#7fbc41"
            ],
            [
             0.9,
             "#4d9221"
            ],
            [
             1,
             "#276419"
            ]
           ],
           "sequential": [
            [
             0,
             "#0d0887"
            ],
            [
             0.1111111111111111,
             "#46039f"
            ],
            [
             0.2222222222222222,
             "#7201a8"
            ],
            [
             0.3333333333333333,
             "#9c179e"
            ],
            [
             0.4444444444444444,
             "#bd3786"
            ],
            [
             0.5555555555555556,
             "#d8576b"
            ],
            [
             0.6666666666666666,
             "#ed7953"
            ],
            [
             0.7777777777777778,
             "#fb9f3a"
            ],
            [
             0.8888888888888888,
             "#fdca26"
            ],
            [
             1,
             "#f0f921"
            ]
           ],
           "sequentialminus": [
            [
             0,
             "#0d0887"
            ],
            [
             0.1111111111111111,
             "#46039f"
            ],
            [
             0.2222222222222222,
             "#7201a8"
            ],
            [
             0.3333333333333333,
             "#9c179e"
            ],
            [
             0.4444444444444444,
             "#bd3786"
            ],
            [
             0.5555555555555556,
             "#d8576b"
            ],
            [
             0.6666666666666666,
             "#ed7953"
            ],
            [
             0.7777777777777778,
             "#fb9f3a"
            ],
            [
             0.8888888888888888,
             "#fdca26"
            ],
            [
             1,
             "#f0f921"
            ]
           ]
          },
          "colorway": [
           "#636efa",
           "#EF553B",
           "#00cc96",
           "#ab63fa",
           "#FFA15A",
           "#19d3f3",
           "#FF6692",
           "#B6E880",
           "#FF97FF",
           "#FECB52"
          ],
          "font": {
           "color": "#2a3f5f"
          },
          "geo": {
           "bgcolor": "white",
           "lakecolor": "white",
           "landcolor": "#E5ECF6",
           "showlakes": true,
           "showland": true,
           "subunitcolor": "white"
          },
          "hoverlabel": {
           "align": "left"
          },
          "hovermode": "closest",
          "mapbox": {
           "style": "light"
          },
          "paper_bgcolor": "white",
          "plot_bgcolor": "#E5ECF6",
          "polar": {
           "angularaxis": {
            "gridcolor": "white",
            "linecolor": "white",
            "ticks": ""
           },
           "bgcolor": "#E5ECF6",
           "radialaxis": {
            "gridcolor": "white",
            "linecolor": "white",
            "ticks": ""
           }
          },
          "scene": {
           "xaxis": {
            "backgroundcolor": "#E5ECF6",
            "gridcolor": "white",
            "gridwidth": 2,
            "linecolor": "white",
            "showbackground": true,
            "ticks": "",
            "zerolinecolor": "white"
           },
           "yaxis": {
            "backgroundcolor": "#E5ECF6",
            "gridcolor": "white",
            "gridwidth": 2,
            "linecolor": "white",
            "showbackground": true,
            "ticks": "",
            "zerolinecolor": "white"
           },
           "zaxis": {
            "backgroundcolor": "#E5ECF6",
            "gridcolor": "white",
            "gridwidth": 2,
            "linecolor": "white",
            "showbackground": true,
            "ticks": "",
            "zerolinecolor": "white"
           }
          },
          "shapedefaults": {
           "line": {
            "color": "#2a3f5f"
           }
          },
          "ternary": {
           "aaxis": {
            "gridcolor": "white",
            "linecolor": "white",
            "ticks": ""
           },
           "baxis": {
            "gridcolor": "white",
            "linecolor": "white",
            "ticks": ""
           },
           "bgcolor": "#E5ECF6",
           "caxis": {
            "gridcolor": "white",
            "linecolor": "white",
            "ticks": ""
           }
          },
          "title": {
           "x": 0.05
          },
          "xaxis": {
           "automargin": true,
           "gridcolor": "white",
           "linecolor": "white",
           "ticks": "",
           "title": {
            "standoff": 15
           },
           "zerolinecolor": "white",
           "zerolinewidth": 2
          },
          "yaxis": {
           "automargin": true,
           "gridcolor": "white",
           "linecolor": "white",
           "ticks": "",
           "title": {
            "standoff": 15
           },
           "zerolinecolor": "white",
           "zerolinewidth": 2
          }
         }
        },
        "title": {
         "text": "Most recent autism prevalence data by country"
        }
       }
      },
      "text/html": [
       "<div>                            <div id=\"c9391a35-f594-4455-8328-cc4ac671244a\" class=\"plotly-graph-div\" style=\"height:525px; width:100%;\"></div>            <script type=\"text/javascript\">                require([\"plotly\"], function(Plotly) {                    window.PLOTLYENV=window.PLOTLYENV || {};                                    if (document.getElementById(\"c9391a35-f594-4455-8328-cc4ac671244a\")) {                    Plotly.newPlot(                        \"c9391a35-f594-4455-8328-cc4ac671244a\",                        [{\"coloraxis\":\"coloraxis\",\"geo\":\"geo\",\"hovertemplate\":\"<b>%{hovertext}</b><br><br>alpha-3=%{location}<br>ASD Prevalence Estimate per 1,000=%{z}<extra></extra>\",\"hovertext\":[\"Epidemiology of Autistic Conditions in Young Children\",\"Epidemiology of infantile Autism\",\"A Prevalence investigation of Childhood Psychoses\",\"The prevalence of early childhood autism: comparison of administrative and epidemiological studies\",\"Severe impairments of social interaction and associated abnormalities in children: Epidemiology and classification\",\"The epidemiological study of autism in Fukushima-ken\",\"Childhood psychosis in a northern Swedish county: Some preliminary findings from an epidemiological survey\",\"Prevalence of childhood autism in Ireland.\",\"Infantile autism and other child psychoses in a Swedish urban region\",\"A community survey of infantile autism\",\"Autism and autism-like conditions in Swedish rural and urban areas: a population study\",\"High prevalence of infantile autism in Kurume City, Japan\",\"A Prevalence Study of Pervasive Developmental Disorders in North Dakota\",\"First report of a Canadian epidemiological study of autistic syndromes\",\"Epidemiology of infantile autism in southern Ibaraki, japan: differences in prevalence in birth cohorts\",\"An epidemiological study of infantile autism in a French department (Rh\\u00f4ne): A research note\",\"The prevalence of autism in Nagoya, Japan: A total population study\",\"The UCLA-University of Utah epidemiologic survey of autism: prevalence\",\"Is autism more common now than ten years ago?\",\"Epidemiological and clinical study of autistic children in Yogyakarta, Indonesia\",\"Prevalence of infantile autism in four French regions\",\"Cumulative incidence and prevalence of childhood autism in children in Japan\",\"Autism and associated medical disorders in a French epidemiological survey\",\"Autism in 3-6 year-old children in a suburb of Goteborg, Sweden\",\"The changing prevalence of autistic disorder in a Welsh health district\",\"Autism and related disorders: Epidemiological findings in a Norwegian study using ICD-10 diagnostic criteria\",\"Brief report: autism and asperger syndrome in seven-year-old children: a total population study\",\"Autism and measles, mumps, and rubella vaccine: No epidemiological evidence for a causal association\",\"Prevalence and impact of parent-reported disabling mental health conditions among U.S. children\",\"A screening instrument for autism at 18 months of age: a 6-year follow-up study\",\"Prevalence of autism in Missouri: changing trends and the effect of a comprehensive state autism project\",\"Changes in the incidence if childhood autism and other autistic spectrum disorders in preschool children from two areas of the west midlands, UK\",\"Autism in Northern Finland\",\"Prevalence of autism in Iceland\",\"Prevalence of pervasive developmental disorders in the British Nationwide survey of Child mental health\",\"Pervasive Developmental Disorders in Preschool Children\",\"Prevalence of Autism in a United States Population: The Brick Township, New Jersey, Investigation\",\"The changing prevalence of autism in California\",\"Brief report: prevalence of autism spectrum conditions in children aged 5-11 years in Cambridgeshire, UK.\",\"Prevalence of autism in a US metropolitan area\",\"Analysis of prevalence trends of autism spectrum disorder in Minnesota\",\"Prevalence of autism and parentally reported triggers in a north east London population\",\"Prevalence of autistic spectrum disorder in children attending mainstream schools in a Welsh education authority\",\"A comparative evaluation of the effects of MMR immunization and mercury doses from thimerosal-containing childhood vaccines on the population prevalence of autism\",\"Childhood autism spectrum disorder in the Barwon region: A community based study\",\"Does routine health surveillance contribute to the early detection of children with pervasive developmental disorders? - An epidemiological study in Kent, U.K.\",\"The incidence of pervasive developmental disorders: a Danish population-based study\",\"Pervasive Developmental Disorders in Preschool Children: Confirmation of High Prevalence\",\"Cumulative incidence of childhood autism: a total population study of better acuracy and precision\",\"National autism prevalence trends from United States special education data\",\"Parents and teachers reports of DSM-IV psychopathological symptoms in preschool children: differences between urban-rural Spanish areas\",\"Autism and mental retardation of young children in Chi\",\"Pervasive developmental disorders in Montreal, Quebec, Canada: Prevalence and links with immunizations\",\"Emotional, developmental, and behavioral health of American children and their families: a report from the 2003 National Survey of Children's Health\",\"Prevalence of disorders of the autism spectrum in a population cohort of children in South Thames: the Special Needs and Autism Project (SP)\",\"Brief Report:\\\" The Autism Epidemic\\\". The registered prevalence of autism in a Swedish urban area\",\"Prevalence of autistic spectrum disorders in Lothian, Scotland: an estimate using the \\\"capture-recapture: technique\",\"Prevalence of pervasive developmental disorders in two Canadian provinces\",\"The population prevalence of child psychiatric disorders in Danish 8- to 9-year-old children\",\"The contribution of diagnostic substitution to the growing administrative prevalence of autism in US special education\",\"Prevalence of autism spectrum disorders - Autism and Developmental Disabilites Monitoring Network, six sites, United States, 2000\",\"Prevalence of autism spectrum disorders - Autism and Developmental Disabilites Monitoring Network, 14 sites, United States, 2002\",\"Trends for special education code assignment for autism: Implication for prevalence estimates\",\"Autism in the Faroe Islands. An epidemiological study\",\"Maternal and paternal age an risk of autism spectrum disorders\",\"Diagnostic trends in autistic spectrum disorders in the South Wales valleys\",\"Epidemiology of autism spectrum disorder in Portugal: prevalence, clinical characterization, and medical conditions\",\"Prevalence of pervasive developmental disorders in preschool children in the UAE\",\"Trends in autism prevalence: diagnostic substitution revisited\",\"Autism prevalence trends over time in Denmark: changes in prevalence and age at diagnosis\",\"Epidemiological study of autism spectrum disorder in Chi\",\"The prevalence of autism in Australia. Can it be established from existing data?\",\"Epidemiological findings of pervasive developmental disorders in a Venezuelan study\",\"Prevalence and characteristics of autistic spectrum disorders in the ALSPAC cohort\",\"Prevalence and Characteristics of Children with Autism-Spectrum Disorders\",\"Prevalence of autism-spectrum conditions: UK school-based population study\",\"Prevalence of autism spectrum disorders - Autism and Developmental Disabilities Monitoring Network, United States, 2006\",\"Autism spectrum disorders in preschool-aged children: Prevalence and comparison to a school-aged population\",\"Autism spectrum disorders in young children: effect of changes in diagnostic practices\",\"Prevalence of treated autism spectrum disorders in Aruba\",\"Screening of 18-24-month-old children for autism in a semi-urban community in Sri Lanka\",\"Prevalence of parent-reported diagnosis of autism spectrum disorder among children in the US, 2007\",\"Prevalence of pervasive developmental disorders among children at the English Montreal school board\",\"The prevalence of autism spectrum disorders: impact of diagnostic instrument and non-response bias\",\"Trends in the prevalence of autism on the basis of special education data\",\"Autism spectrum disorder diagnoses in Stockholm preschoolers\",\"Brief report: Prevalence of autistic disorders in the Sultate of Oman\",\"Trends in the prevalence of developmental disabilities in US children, 1997-2008\",\"Socioeconomic Status and the Increased Prevalence of Autism in California\",\"A comparison of autism trends in Denmark and Western Australia\",\"A comparison of autism trends in Denmark and Western Australia\",\"Prevalence and incidence of autism spectrum disorders among Prevalence and incidence of autism spectrum disorders among national health insurance enrollees in Taiwan from 1996 to 2005 health insurance enrollees in Taiwan from 1996 to 2005\",\"Birth prevalence of autism spectrum disorders in the San Francisco Bay area by demographic and ascertainment source characteristics\",\"Prevalence of autism spectrum disorders in total population sample\",\"Brief report: prevalence of pervasive developmental disorder in Brazil: a pilot study\",\"Epidemiology of autism spectrum disorders in adults in the community in England\",\"Autism spectrum disorders according to DSM-IV-TR and comparison with DSM-5 draft criteria: an epidemiological study\",\"Changes in administrative prevalence of autism spectrum disorders: contribution of special education from 2002-2008\",\"The Arkansas Autism Developmental Disabilities Monitoring (AR ADDM) project: statewide autism surveillance in a rural state\",\"The rising prevalence of autism: A perspective longitudinal study in the Faroe Islands\",\"Prevalence of autism spectrum disorders--Autism and developmental disabilities monitoring network, 14 sites, United States, 2008\",\"Autism spectrum disorder, ADHD, epilepsy, and cerebral palsy in Norwegian children\",\"A national study of the prevalence of autism among five-year-old children in Iran\",\"Observed prevalence of autism spectrum disorders in two Norwegian counties\",\"Autism spectrum disorders in the Stockholm youth cohort: Design, prevalence, and validity\",\"Gender and geographic differences in the prevalence of autism spectrum disorders in children: analysis of data from the national disability registry of Taiwan\",\"The prevalence of autism spectrum disorders in toddlers: A population study of 2-year-old Swedish children\",\"Prevalence of autism spectrum disorders in Hispanic and non-Hispanic white children\",\"Parent-reported prevalence of autism spectrum disorders in US-born children: an assessment of changes within birth cohorts from the 2003 to the 2007 National Survey of Children's Health\",\"Epidemiology of autistic disorder in Bahrain: prevalence and obstetric and familial characteristics\",\"Prevalence and incidence of autism spectrum disorder in an Israeli population\",\"Trends in the prevalence of childhood disability: analysis of data from the national disability registry of Taiwan, 2000-2011\",\"Prevalence of autism spectrum disorders in Icelandic birth cohort\",\"Differences across counties in the registered prevalence of autism, ADHD, epilepsy and cerebral palsy in Norway\",\"Prevalence and incidence rates of autism in the UK: Time trend from 2004-2010 in children aged 8 years\",\"Changes in prevalence of parent-reported autism spectrum disorder in school-aged U.S. children: 2007 to 2011-2012\",\"Prevalence of autism spectrum disorder among children aged 8 years - Autism and developmental disabilities monitoring network, 11 sites, United States, 2010\",\"Prevalence and early signs of autism spectrum disorder (ASD) among 18-36 month-old children of Tianjin in China\",\"A comparison of DSM-IV pervasive developmental disorder and DSM-5 autism spectrum disorder prevalence in an epidemiologic sample\",\"The changing prevalence of autism in three regions of Canada\",\"Adaptation of the \\\"ten questions\\\" to screen for autism and other neurodevelopmental disorders in Uganda\",\"Prevalence of parent-reported ASD and ADHD in the UK: findings from the Millennium Cohort Study\",\"Increasing autism prevalence in metropolitan New Jersey\",\"Parental concerns, socioeconomic status, and the risk of autism spectrum conditions in a population-based study\",\"Estimated prevalence of autism and other developmental disabilities following questionnaire changes in the 2014 natiol health interview survey\",\"The increasing prevalence of reported diagnoses of childhood psychiatric disorders: a descriptive multinational comparison\",\"The increasing prevalence of reported diagnoses of childhood psychiatric disorders: a descriptive multinational comparison\",\"The increasing prevalence of reported diagnoses of childhood psychiatric disorders: a descriptive multinational comparison\",\"The increasing prevalence of reported diagnoses of childhood psychiatric disorders: a descriptive multinational comparison\",\"Socioeconomic Disparities and Prevalence of Autism Spectrum Disorders and Intellectual Disability\",\"Changes in prevalence of autism spectrum disorders in 2001-2011: findings from the Stockholm youth cohort\",\"Autism phenotype versus registered diagnosis in Swedish children: prevalence trends over 10 years in general population samples\",\"Incidence and cohort prevalence for autism spectrum disorders in the Avalon Peninsula, Newfoundland and Labrador\",\"Exploring the Underdiagnosis and Prevalence of Autism Spectrum Conditions in Beijing\",\"Low but increasing prevalence of autism spectrum disorders in a French area from register-based data\",\"Trends in the prevalence of autism spectrum disorder, cerebral palsy, hearing loss, intellectual disability, and vision impairment, metropolitan atlanta, 1991-2010\",\"Prevalence of autism spectrum disorders in Ecuador: A pilot study in Quito\",\"Parental Age and Autism Spectrum Disorders Among New York City Children 0-36 Months of Age\",\"Screening for Autism in Iranian Preschoolers: Contrasting M-CHAT and a Scale Developed in Iran\",\"Neurodevelopmental delay among children under the age of three years at immunization clinics in Lagos State, Nigeria - Preliminary report\",\"Operationalisation of the European Protocol for Autism Prevalence (EPAP) for Autism Spectrum Disorder Prevalence Measurement in Ireland\",\"Population-Based Prevalence of Intellectual Disability and Autism Spectrum Disorders in Western Australia: A Comparison With Previous Estimates\",\"Prevalence of Autism Spectrum Disorder in Nurseries in Lebanon: A Cross Sectional Study\",\"Prevalence and characteristics of autism apectrum disorder among 4-year-old children in the Autism and Developmental Disabilities Monitoring Network\",\"Prevalence and socioeconomic correlates of autism among children attending primary and secondary schools in south east Nigeria\",\"Prevalence of autism apectrum aisorders in Guanajuato, Mexico: The Leon survey\",\"Autism spectrum disorder: Presentation and prevalence in a nationally representative Australian sample\",\"Prevalence of autism spectrum disorders in a semiurban community in South India\",\"Prevalence and characteristics of autism spectrum disorders among 8-years -- Autism and developmental disabilities monitoring network, 11 sites, United States, 2012\",\"Autism Spectrum Disorder Among US Children (2002-2010): Socioeconomic, Racial, and Ethnic Disparities\",\"Autism spectrum disorder: Updated prevalence and comparison of two birth cohorts in a nationally representative Australian sample\",\"Prevalence of Autism Spectrum Disorder among Rural, Urban, and Tribal Children (1-10 Years of Age)\",\"Prevalence of autism spectrum disorder and autistic symptoms in a school-based cohort of children in Kolkata, India\",\"The prevalence of autism spectrum disorders in West Pomeranian and Pomeranian Regions of Poland\",\"Brief Report: Estimated Prevalence of a Community Diagnosis of Autism Spectrum Disorder by Age 4 Years in Children from Selected Areas in the United States in 2010: Evaluation of Birth Cohort Effects\",\"Brief Report: Prevalence of Co-occurring Epilepsy and Autism Spectrum Disorder: The U.S. National Survey of Children's Health 2011-2012\",\"Prevalence of Autism Spectrum Disorders with and without Intellectual Disability by Gestational Age at Birth in the Stockholm Youth Cohort: a Register Linkage Study\",\"Estimated Prevalence of Children With Diagnosed Developmental Disabilities in the United States, 2014-2016\",\"The prevalence of parent-reported autism spectrum disorder among US children.\",\"Prevalence of childhood neurodevelopmental disorders across five regions in India\",\"Prevalence of autism spectrum disorder among children aged 8 years - Autism and developmental disabilities monitoring network, 11 sites, United States, 2014\",\"Prevalence of autism spectrum disorder among children and adolescents, 2014-2016\",\"The estimated prevalence of autism in school-aged children living in rural Nepal using a population-based screening tool\",\"Prevalence of long-term health conditions in adults with autism: Prevalence of long-term health conditions in adults with autism: observational study of a whole country population study of a whole country population\",\"Diagnoses of Autism Spectrum Disorders in Germany: Time Trends in Administrative Prevalence and Diagnostic Stability\",\"Prevalence and correlates of autism spectrum disorders in Quebec\",\"California autism prevalence trends from 1931 to 2014 and comparison to national ASD data from IDEA and ADDM\",\"Prevalence of Autism Spectrum Disorder in a large Italian catchment area: a school-based population study within the ASDEU project\",\"Prevalence of DSM-5 Autism Spectrum Disorder Among School-Based Children Aged 3-12\\u00a0Years in Shanghai, China\",\"Prevalence of Autism Spectrum Disorder (ASD) among the children aged 18-36 months in a rural community of Bangladesh: A cross sectional study\",\"Prevalence and Characteristics of Autism Spectrum Disorder Among Spanish School-Age Children\",\"Autism prevalence in Chi is comparable to Western prevalence\",\"The prevalence and treatment patterns of autism spectrum disorder in the United States, 2016\",\"Assessment of racial and ethnic bias in autism spectrum disorder prevalence estimates from a US surveillance system\",\"Prevalence and Trends of Developmental Disabilities among Children in the United States: 2009-2017\",\"Prevalence and characteristics of autism spectrum disorder among children 4 years - Early autism and developmental disabilities monitoring network, seven sites, United Stated, 2010, 2012, and 2014\",\"Revisiting the prevalence of autism spectrum disorder among Omani children: A multicentre study\",\"Prevalence and correlates of autism spectrum disorder in Qatar: A national study\",\"Prevalence of DSM-5 mental disorders in a nationally representative sample of children in Taiwan: Methodology and main findings\",\"Prevalence of autism spectrum disorders and their relation to selected socio-demographic factors among children aged 18-30\\u00a0months in northern Vietnam, 2017\",\"Prevalence of autism and its comorbidities and the relationship with maternal psychopathology: A national population-based study\",\"Temporal and Geographical Variability of Prevalence and Incidence of Autism Spectrum Disorder Diagnoses in Children in Catalonia, Spain\",\"Autism Prevalence in the Medicaid Program and Healthcare Utilization and Costs Among Adult Enrollees Diagnosed with Autism\",\"Annual trends in prevalence and incidence of autism spectrum disorders in Manitoba preschoolers and toddlers: 2004-2015\",\"Prevalence of autism spectrum disorder among children aged 8 years - Autism and developmental disabilities monitoring network, 11 sites, United States, 2016\",\"Early identification of autism spectrum disorder among children aged 4 years - Early autism and developmental disabilities monitoring network, six sites, United States, 2016\",\"Prevalence and economic burden of autism spectrum disorder in South Korea using national health insurance data from 2008 to 2015\",\"Prevalence and cumulative incidence of autism spectrum disorders and the patterns of co-occurring neurodevelopmental disorders in a total population sample of 5-year-old children\",\"Prevalence of Children Aged 3-17 Years With Developmental Disabilities, by Urbanicity: United States, 2015-2018\",\"The ASDEU autism prevalence study in northern Spain\",\"Autism spectrum disorder prevalence in children aged 12-13\\u2009years from the Longitudinal Study of Australian Children\",\"Prevalence Estimates of Neurodevelopmental Disorders in Japan: A community sample questionnaire study\",\"Autism Spectrum Disorders in Greece: Nationwide Prevalence in 10-11 Year-Old Children and Regional Disparities\",\"Prevalence of Autism Spectrum Disorder in Chi: A Nationwide Multi-center Population-based Study Among Children Aged 6 to 12 Years\",\"California Autism Prevalence by County and Race/Ethnicity: Declining Trends Among Wealthy Whites\",\"School-Based Autism Rates by State: An Analysis of Demographics, Political Leanings, and Differential Identification\",\"Neurodevelopmental disorders among Spanish school-age children: prevalence and sociodemographic correlates\",\"Identifying Children and Youth with Autism Spectrum Diorder in Electronic Medical Records: Examining Health System Utilization and Comorbidities\",\"Racial/ethnic disparities in the prevalence and trends of autism specrum disorder in US children and adolescents\",\"Autism spectrum disorder prevalence and associated sociodemographic factors in the school population: EPINED study\",\"Prevalence of autism spectrum disorder among Saudi children between 2 and 4 years old in Riyadh\",\"Prevalence of Autism Spectrum Disorder Among Children and Adolescents in the United States From 2019 to 2020\",\"Prevalence and Characteristics of Autism Spectrum Disorder Among Children Aged 8 Years - Autism and Developmental Disabilities Monitoring Network, 11 Sites, United States, 2018\",\"Association of Race/Ethnicity and Social Disadvantage With Autism Prevalence in 7 Million School Children in England\",\"Prevalence of autism spectrum disorder in a large, diverse metropolitan area: Variation by sociodemographic factors\",\"Prevalence of Autism Spectrum Disorder in Children in Andalusia (Spain)\",\"Prevalence and Premature Mortality Statistics of Autism Spectrum Disorder Among Children in Korea: A Nationwide Population-Based Birth Cohort Study\"],\"locations\":[\"GBR\",\"USA\",\"DNK\",\"GBR\",\"GBR\",\"JPN\",\"SWE\",\"IRL\",\"SWE\",\"DEU\",\"SWE\",\"JPN\",\"USA\",\"CAN\",\"JPN\",\"FRA\",\"JPN\",\"USA\",\"SWE\",\"IDN\",\"FRA\",\"JPN\",\"FRA\",\"SWE\",null,\"NOR\",\"SWE\",\"GBR\",\"USA\",\"GBR\",\"USA\",\"GBR\",\"FIN\",\"ISL\",null,\"GBR\",\"USA\",\"USA\",\"GBR\",\"USA\",\"USA\",\"GBR\",null,\"USA\",\"AUS\",\"GBR\",\"DNK\",\"GBR\",\"JPN\",\"USA\",\"ESP\",\"CHN\",\"CAN\",\"USA\",\"GBR\",\"SWE\",null,\"CAN\",\"DNK\",\"USA\",\"USA\",\"USA\",\"CAN\",\"DNK\",\"USA\",null,\"PRT\",\"ARE\",\"CAN\",\"DNK\",\"CHN\",\"AUS\",null,\"GBR\",\"USA\",\"GBR\",\"USA\",\"USA\",\"AUS\",null,\"LKA\",\"USA\",\"CAN\",\"NOR\",\"USA\",\"SWE\",\"OMN\",\"USA\",\"USA\",\"DNK\",\"AUS\",null,\"USA\",null,\"BRA\",\"GBR\",\"FIN\",\"USA\",\"USA\",\"DNK\",\"USA\",\"NOR\",null,\"NOR\",\"SWE\",null,\"SWE\",\"USA\",\"USA\",\"BHR\",\"ISR\",null,\"ISL\",\"NOR\",null,\"USA\",\"USA\",\"CHN\",null,\"CAN\",\"UGA\",null,\"USA\",null,\"USA\",\"DNK\",\"FIN\",\"SWE\",\"AUS\",\"FRA\",\"SWE\",\"SWE\",\"CAN\",\"CHN\",\"FRA\",\"USA\",\"ECU\",\"USA\",null,\"NGA\",\"IRL\",\"AUS\",\"LBN\",\"USA\",\"NGA\",\"MEX\",\"AUS\",\"IND\",\"USA\",\"USA\",\"AUS\",\"IND\",\"IND\",\"POL\",\"USA\",\"USA\",\"SWE\",\"USA\",\"USA\",\"IND\",\"USA\",\"USA\",\"NPL\",null,\"DEU\",\"CAN\",\"USA\",\"ITA\",\"CHN\",\"BGD\",\"ESP\",\"CHN\",\"USA\",\"USA\",\"USA\",\"USA\",\"OMN\",\"QAT\",null,null,null,\"ESP\",\"USA\",\"CAN\",\"USA\",\"USA\",null,\"JPN\",\"USA\",null,\"AUS\",\"JPN\",\"GRC\",\"CHN\",\"USA\",\"USA\",\"ESP\",\"CAN\",\"USA\",\"ESP\",\"SAU\",\"USA\",\"USA\",\"GBR\",\"USA\",\"ESP\",null],\"name\":\"\",\"z\":[0.45,0.077,0.43,4.48,0.49,0.525,0.56,0.43,0.2,0.19,0.66,1.55,0.33,1.01,1.38,0.45,1.3,0.357,0.95,1.2,0.49,2.11,0.54,4.6,0.72,0.52,12.1,1.01,0.38,5.79,0.14,2.02,1.39,1.32,2.61,6.26,6.7,1.1,5.7,3.4,6.6,3.05,2.02,2.78,3.92,8.28,3.02,5.87,4.12,2.41,17.2,1.1,6.49,5.0,11.61,5.33,4.42,2.91,11.0,3.1,6.7,6.6,4.31,5.6,4.5,6.12,0.92,2.9,4.31,6.19,1.6,6.25,1.7,6.19,6.2,15.7,9.0,8.0,2.34,5.3,10.7,11.0,7.91,8.7,9.0,6.2,0.14,4.7,4.9,6.85,5.1,2.9,4.7,26.4,2.72,9.8,8.4,13.0,6.9,9.4,11.3,3.22,0.63,5.1,11.5,2.53,6.4,15.0,18.9,0.43,4.8,2.21,12.0,6.0,2.4,20.0,14.7,2.75,22.0,10.45,12.0,17.0,17.4,14.0,22.4,11.4,7.5,6.6,5.0,3.6,15.4,4.2,21.6,11.9,3.65,15.5,1.1,4.3,9.52,1.33,10.0,4.1,15.3,13.4,29.0,8.7,25.0,2.33,14.6,11.9,39.0,1.5,2.3,3.5,8.0,18.0,21.0,24.7,25.0,14.0,16.8,24.7,3.0,1.77,3.8,12.2,11.8,7.9,0.758,0.75,15.5,10.8,27.9,12.6,17.4,17.0,2.04,11.4,10.0,7.52,1.8,12.3,3.66,9.7,18.5,15.6,0.11,32.2,25.0,5.9,43.6,19.0,11.5,7.0,15.0,12.3,7.0,13.2,24.9,15.3,25.0,31.4,23.0,17.6,36.0,8.65,7.12],\"type\":\"choropleth\"}],                        {\"template\":{\"data\":{\"bar\":[{\"error_x\":{\"color\":\"#2a3f5f\"},\"error_y\":{\"color\":\"#2a3f5f\"},\"marker\":{\"line\":{\"color\":\"#E5ECF6\",\"width\":0.5},\"pattern\":{\"fillmode\":\"overlay\",\"size\":10,\"solidity\":0.2}},\"type\":\"bar\"}],\"barpolar\":[{\"marker\":{\"line\":{\"color\":\"#E5ECF6\",\"width\":0.5},\"pattern\":{\"fillmode\":\"overlay\",\"size\":10,\"solidity\":0.2}},\"type\":\"barpolar\"}],\"carpet\":[{\"aaxis\":{\"endlinecolor\":\"#2a3f5f\",\"gridcolor\":\"white\",\"linecolor\":\"white\",\"minorgridcolor\":\"white\",\"startlinecolor\":\"#2a3f5f\"},\"baxis\":{\"endlinecolor\":\"#2a3f5f\",\"gridcolor\":\"white\",\"linecolor\":\"white\",\"minorgridcolor\":\"white\",\"startlinecolor\":\"#2a3f5f\"},\"type\":\"carpet\"}],\"choropleth\":[{\"colorbar\":{\"outlinewidth\":0,\"ticks\":\"\"},\"type\":\"choropleth\"}],\"contour\":[{\"colorbar\":{\"outlinewidth\":0,\"ticks\":\"\"},\"colorscale\":[[0.0,\"#0d0887\"],[0.1111111111111111,\"#46039f\"],[0.2222222222222222,\"#7201a8\"],[0.3333333333333333,\"#9c179e\"],[0.4444444444444444,\"#bd3786\"],[0.5555555555555556,\"#d8576b\"],[0.6666666666666666,\"#ed7953\"],[0.7777777777777778,\"#fb9f3a\"],[0.8888888888888888,\"#fdca26\"],[1.0,\"#f0f921\"]],\"type\":\"contour\"}],\"contourcarpet\":[{\"colorbar\":{\"outlinewidth\":0,\"ticks\":\"\"},\"type\":\"contourcarpet\"}],\"heatmap\":[{\"colorbar\":{\"outlinewidth\":0,\"ticks\":\"\"},\"colorscale\":[[0.0,\"#0d0887\"],[0.1111111111111111,\"#46039f\"],[0.2222222222222222,\"#7201a8\"],[0.3333333333333333,\"#9c179e\"],[0.4444444444444444,\"#bd3786\"],[0.5555555555555556,\"#d8576b\"],[0.6666666666666666,\"#ed7953\"],[0.7777777777777778,\"#fb9f3a\"],[0.8888888888888888,\"#fdca26\"],[1.0,\"#f0f921\"]],\"type\":\"heatmap\"}],\"heatmapgl\":[{\"colorbar\":{\"outlinewidth\":0,\"ticks\":\"\"},\"colorscale\":[[0.0,\"#0d0887\"],[0.1111111111111111,\"#46039f\"],[0.2222222222222222,\"#7201a8\"],[0.3333333333333333,\"#9c179e\"],[0.4444444444444444,\"#bd3786\"],[0.5555555555555556,\"#d8576b\"],[0.6666666666666666,\"#ed7953\"],[0.7777777777777778,\"#fb9f3a\"],[0.8888888888888888,\"#fdca26\"],[1.0,\"#f0f921\"]],\"type\":\"heatmapgl\"}],\"histogram\":[{\"marker\":{\"pattern\":{\"fillmode\":\"overlay\",\"size\":10,\"solidity\":0.2}},\"type\":\"histogram\"}],\"histogram2d\":[{\"colorbar\":{\"outlinewidth\":0,\"ticks\":\"\"},\"colorscale\":[[0.0,\"#0d0887\"],[0.1111111111111111,\"#46039f\"],[0.2222222222222222,\"#7201a8\"],[0.3333333333333333,\"#9c179e\"],[0.4444444444444444,\"#bd3786\"],[0.5555555555555556,\"#d8576b\"],[0.6666666666666666,\"#ed7953\"],[0.7777777777777778,\"#fb9f3a\"],[0.8888888888888888,\"#fdca26\"],[1.0,\"#f0f921\"]],\"type\":\"histogram2d\"}],\"histogram2dcontour\":[{\"colorbar\":{\"outlinewidth\":0,\"ticks\":\"\"},\"colorscale\":[[0.0,\"#0d0887\"],[0.1111111111111111,\"#46039f\"],[0.2222222222222222,\"#7201a8\"],[0.3333333333333333,\"#9c179e\"],[0.4444444444444444,\"#bd3786\"],[0.5555555555555556,\"#d8576b\"],[0.6666666666666666,\"#ed7953\"],[0.7777777777777778,\"#fb9f3a\"],[0.8888888888888888,\"#fdca26\"],[1.0,\"#f0f921\"]],\"type\":\"histogram2dcontour\"}],\"mesh3d\":[{\"colorbar\":{\"outlinewidth\":0,\"ticks\":\"\"},\"type\":\"mesh3d\"}],\"parcoords\":[{\"line\":{\"colorbar\":{\"outlinewidth\":0,\"ticks\":\"\"}},\"type\":\"parcoords\"}],\"pie\":[{\"automargin\":true,\"type\":\"pie\"}],\"scatter\":[{\"marker\":{\"colorbar\":{\"outlinewidth\":0,\"ticks\":\"\"}},\"type\":\"scatter\"}],\"scatter3d\":[{\"line\":{\"colorbar\":{\"outlinewidth\":0,\"ticks\":\"\"}},\"marker\":{\"colorbar\":{\"outlinewidth\":0,\"ticks\":\"\"}},\"type\":\"scatter3d\"}],\"scattercarpet\":[{\"marker\":{\"colorbar\":{\"outlinewidth\":0,\"ticks\":\"\"}},\"type\":\"scattercarpet\"}],\"scattergeo\":[{\"marker\":{\"colorbar\":{\"outlinewidth\":0,\"ticks\":\"\"}},\"type\":\"scattergeo\"}],\"scattergl\":[{\"marker\":{\"colorbar\":{\"outlinewidth\":0,\"ticks\":\"\"}},\"type\":\"scattergl\"}],\"scattermapbox\":[{\"marker\":{\"colorbar\":{\"outlinewidth\":0,\"ticks\":\"\"}},\"type\":\"scattermapbox\"}],\"scatterpolar\":[{\"marker\":{\"colorbar\":{\"outlinewidth\":0,\"ticks\":\"\"}},\"type\":\"scatterpolar\"}],\"scatterpolargl\":[{\"marker\":{\"colorbar\":{\"outlinewidth\":0,\"ticks\":\"\"}},\"type\":\"scatterpolargl\"}],\"scatterternary\":[{\"marker\":{\"colorbar\":{\"outlinewidth\":0,\"ticks\":\"\"}},\"type\":\"scatterternary\"}],\"surface\":[{\"colorbar\":{\"outlinewidth\":0,\"ticks\":\"\"},\"colorscale\":[[0.0,\"#0d0887\"],[0.1111111111111111,\"#46039f\"],[0.2222222222222222,\"#7201a8\"],[0.3333333333333333,\"#9c179e\"],[0.4444444444444444,\"#bd3786\"],[0.5555555555555556,\"#d8576b\"],[0.6666666666666666,\"#ed7953\"],[0.7777777777777778,\"#fb9f3a\"],[0.8888888888888888,\"#fdca26\"],[1.0,\"#f0f921\"]],\"type\":\"surface\"}],\"table\":[{\"cells\":{\"fill\":{\"color\":\"#EBF0F8\"},\"line\":{\"color\":\"white\"}},\"header\":{\"fill\":{\"color\":\"#C8D4E3\"},\"line\":{\"color\":\"white\"}},\"type\":\"table\"}]},\"layout\":{\"annotationdefaults\":{\"arrowcolor\":\"#2a3f5f\",\"arrowhead\":0,\"arrowwidth\":1},\"autotypenumbers\":\"strict\",\"coloraxis\":{\"colorbar\":{\"outlinewidth\":0,\"ticks\":\"\"}},\"colorscale\":{\"diverging\":[[0,\"#8e0152\"],[0.1,\"#c51b7d\"],[0.2,\"#de77ae\"],[0.3,\"#f1b6da\"],[0.4,\"#fde0ef\"],[0.5,\"#f7f7f7\"],[0.6,\"#e6f5d0\"],[0.7,\"#b8e186\"],[0.8,\"#7fbc41\"],[0.9,\"#4d9221\"],[1,\"#276419\"]],\"sequential\":[[0.0,\"#0d0887\"],[0.1111111111111111,\"#46039f\"],[0.2222222222222222,\"#7201a8\"],[0.3333333333333333,\"#9c179e\"],[0.4444444444444444,\"#bd3786\"],[0.5555555555555556,\"#d8576b\"],[0.6666666666666666,\"#ed7953\"],[0.7777777777777778,\"#fb9f3a\"],[0.8888888888888888,\"#fdca26\"],[1.0,\"#f0f921\"]],\"sequentialminus\":[[0.0,\"#0d0887\"],[0.1111111111111111,\"#46039f\"],[0.2222222222222222,\"#7201a8\"],[0.3333333333333333,\"#9c179e\"],[0.4444444444444444,\"#bd3786\"],[0.5555555555555556,\"#d8576b\"],[0.6666666666666666,\"#ed7953\"],[0.7777777777777778,\"#fb9f3a\"],[0.8888888888888888,\"#fdca26\"],[1.0,\"#f0f921\"]]},\"colorway\":[\"#636efa\",\"#EF553B\",\"#00cc96\",\"#ab63fa\",\"#FFA15A\",\"#19d3f3\",\"#FF6692\",\"#B6E880\",\"#FF97FF\",\"#FECB52\"],\"font\":{\"color\":\"#2a3f5f\"},\"geo\":{\"bgcolor\":\"white\",\"lakecolor\":\"white\",\"landcolor\":\"#E5ECF6\",\"showlakes\":true,\"showland\":true,\"subunitcolor\":\"white\"},\"hoverlabel\":{\"align\":\"left\"},\"hovermode\":\"closest\",\"mapbox\":{\"style\":\"light\"},\"paper_bgcolor\":\"white\",\"plot_bgcolor\":\"#E5ECF6\",\"polar\":{\"angularaxis\":{\"gridcolor\":\"white\",\"linecolor\":\"white\",\"ticks\":\"\"},\"bgcolor\":\"#E5ECF6\",\"radialaxis\":{\"gridcolor\":\"white\",\"linecolor\":\"white\",\"ticks\":\"\"}},\"scene\":{\"xaxis\":{\"backgroundcolor\":\"#E5ECF6\",\"gridcolor\":\"white\",\"gridwidth\":2,\"linecolor\":\"white\",\"showbackground\":true,\"ticks\":\"\",\"zerolinecolor\":\"white\"},\"yaxis\":{\"backgroundcolor\":\"#E5ECF6\",\"gridcolor\":\"white\",\"gridwidth\":2,\"linecolor\":\"white\",\"showbackground\":true,\"ticks\":\"\",\"zerolinecolor\":\"white\"},\"zaxis\":{\"backgroundcolor\":\"#E5ECF6\",\"gridcolor\":\"white\",\"gridwidth\":2,\"linecolor\":\"white\",\"showbackground\":true,\"ticks\":\"\",\"zerolinecolor\":\"white\"}},\"shapedefaults\":{\"line\":{\"color\":\"#2a3f5f\"}},\"ternary\":{\"aaxis\":{\"gridcolor\":\"white\",\"linecolor\":\"white\",\"ticks\":\"\"},\"baxis\":{\"gridcolor\":\"white\",\"linecolor\":\"white\",\"ticks\":\"\"},\"bgcolor\":\"#E5ECF6\",\"caxis\":{\"gridcolor\":\"white\",\"linecolor\":\"white\",\"ticks\":\"\"}},\"title\":{\"x\":0.05},\"xaxis\":{\"automargin\":true,\"gridcolor\":\"white\",\"linecolor\":\"white\",\"ticks\":\"\",\"title\":{\"standoff\":15},\"zerolinecolor\":\"white\",\"zerolinewidth\":2},\"yaxis\":{\"automargin\":true,\"gridcolor\":\"white\",\"linecolor\":\"white\",\"ticks\":\"\",\"title\":{\"standoff\":15},\"zerolinecolor\":\"white\",\"zerolinewidth\":2}}},\"geo\":{\"domain\":{\"x\":[0.0,1.0],\"y\":[0.0,1.0]},\"center\":{}},\"coloraxis\":{\"colorbar\":{\"title\":{\"text\":\"ASD Prevalence Estimate per 1,000\"}},\"colorscale\":[[0.0,\"#440154\"],[0.1111111111111111,\"#482878\"],[0.2222222222222222,\"#3e4989\"],[0.3333333333333333,\"#31688e\"],[0.4444444444444444,\"#26828e\"],[0.5555555555555556,\"#1f9e89\"],[0.6666666666666666,\"#35b779\"],[0.7777777777777778,\"#6ece58\"],[0.8888888888888888,\"#b5de2b\"],[1.0,\"#fde725\"]],\"cmin\":0,\"cmax\":12},\"legend\":{\"tracegroupgap\":0},\"title\":{\"text\":\"Most recent autism prevalence data by country\"}},                        {\"responsive\": true}                    ).then(function(){\n",
       "                            \n",
       "var gd = document.getElementById('c9391a35-f594-4455-8328-cc4ac671244a');\n",
       "var x = new MutationObserver(function (mutations, observer) {{\n",
       "        var display = window.getComputedStyle(gd).display;\n",
       "        if (!display || display === 'none') {{\n",
       "            console.log([gd, 'removed!']);\n",
       "            Plotly.purge(gd);\n",
       "            observer.disconnect();\n",
       "        }}\n",
       "}});\n",
       "\n",
       "// Listen for the removal of the full notebook cells\n",
       "var notebookContainer = gd.closest('#notebook-container');\n",
       "if (notebookContainer) {{\n",
       "    x.observe(notebookContainer, {childList: true});\n",
       "}}\n",
       "\n",
       "// Listen for the clearing of the current output cell\n",
       "var outputEl = gd.closest('.output');\n",
       "if (outputEl) {{\n",
       "    x.observe(outputEl, {childList: true});\n",
       "}}\n",
       "\n",
       "                        })                };                });            </script>        </div>"
      ]
     },
     "metadata": {},
     "output_type": "display_data"
    }
   ],
   "source": [
    "fig = px.choropleth(merged_data, locations='alpha-3', color='ASD Prevalence Estimate per 1,000',\n",
    "                    hover_name= 'Title',\n",
    "                    color_continuous_scale=\"Viridis\",\n",
    "                    range_color=(0, 12),\n",
    "                    title= 'Most recent autism prevalence data by country')\n",
    "fig.show()"
   ]
  },
  {
   "cell_type": "code",
   "execution_count": 30,
   "id": "1db6c591",
   "metadata": {},
   "outputs": [
    {
     "data": {
      "application/vnd.plotly.v1+json": {
       "config": {
        "plotlyServerURL": "https://plot.ly"
       },
       "data": [
        {
         "coloraxis": "coloraxis",
         "geo": "geo12",
         "hovertemplate": "<b>%{hovertext}</b><br><br>Year Range=[1965, 1970)<br>alpha-3=%{location}<br>ASD Prevalence Estimate per 1,000=%{z}<extra></extra>",
         "hovertext": [
          "Epidemiology of Autistic Conditions in Young Children"
         ],
         "locations": [
          "GBR"
         ],
         "name": "",
         "type": "choropleth",
         "z": [
          0.45
         ]
        },
        {
         "coloraxis": "coloraxis",
         "geo": "geo11",
         "hovertemplate": "<b>%{hovertext}</b><br><br>Year Range=[1970, 1975)<br>alpha-3=%{location}<br>ASD Prevalence Estimate per 1,000=%{z}<extra></extra>",
         "hovertext": [
          "Epidemiology of infantile Autism",
          "A Prevalence investigation of Childhood Psychoses"
         ],
         "locations": [
          "USA",
          "DNK"
         ],
         "name": "",
         "type": "choropleth",
         "z": [
          0.077,
          0.43
         ]
        },
        {
         "coloraxis": "coloraxis",
         "geo": "geo10",
         "hovertemplate": "<b>%{hovertext}</b><br><br>Year Range=[1975, 1980)<br>alpha-3=%{location}<br>ASD Prevalence Estimate per 1,000=%{z}<extra></extra>",
         "hovertext": [
          "The prevalence of early childhood autism: comparison of administrative and epidemiological studies",
          "Severe impairments of social interaction and associated abnormalities in children: Epidemiology and classification"
         ],
         "locations": [
          "GBR",
          "GBR"
         ],
         "name": "",
         "type": "choropleth",
         "z": [
          4.48,
          0.49
         ]
        },
        {
         "coloraxis": "coloraxis",
         "geo": "geo9",
         "hovertemplate": "<b>%{hovertext}</b><br><br>Year Range=[1980, 1985)<br>alpha-3=%{location}<br>ASD Prevalence Estimate per 1,000=%{z}<extra></extra>",
         "hovertext": [
          "The epidemiological study of autism in Fukushima-ken",
          "Childhood psychosis in a northern Swedish county: Some preliminary findings from an epidemiological survey",
          "Prevalence of childhood autism in Ireland.",
          "Infantile autism and other child psychoses in a Swedish urban region"
         ],
         "locations": [
          "JPN",
          "SWE",
          "IRL",
          "SWE"
         ],
         "name": "",
         "type": "choropleth",
         "z": [
          0.525,
          0.56,
          0.43,
          0.2
         ]
        },
        {
         "coloraxis": "coloraxis",
         "geo": "geo8",
         "hovertemplate": "<b>%{hovertext}</b><br><br>Year Range=[1985, 1990)<br>alpha-3=%{location}<br>ASD Prevalence Estimate per 1,000=%{z}<extra></extra>",
         "hovertext": [
          "A community survey of infantile autism",
          "Autism and autism-like conditions in Swedish rural and urban areas: a population study",
          "High prevalence of infantile autism in Kurume City, Japan",
          "A Prevalence Study of Pervasive Developmental Disorders in North Dakota",
          "First report of a Canadian epidemiological study of autistic syndromes",
          "Epidemiology of infantile autism in southern Ibaraki, japan: differences in prevalence in birth cohorts",
          "An epidemiological study of infantile autism in a French department (Rhône): A research note",
          "The prevalence of autism in Nagoya, Japan: A total population study",
          "The UCLA-University of Utah epidemiologic survey of autism: prevalence"
         ],
         "locations": [
          "DEU",
          "SWE",
          "JPN",
          "USA",
          "CAN",
          "JPN",
          "FRA",
          "JPN",
          "USA"
         ],
         "name": "",
         "type": "choropleth",
         "z": [
          0.19,
          0.66,
          1.55,
          0.33,
          1.01,
          1.38,
          0.45,
          1.3,
          0.357
         ]
        },
        {
         "coloraxis": "coloraxis",
         "geo": "geo7",
         "hovertemplate": "<b>%{hovertext}</b><br><br>Year Range=[1990, 1995)<br>alpha-3=%{location}<br>ASD Prevalence Estimate per 1,000=%{z}<extra></extra>",
         "hovertext": [
          "Is autism more common now than ten years ago?",
          "Epidemiological and clinical study of autistic children in Yogyakarta, Indonesia",
          "Prevalence of infantile autism in four French regions"
         ],
         "locations": [
          "SWE",
          "IDN",
          "FRA"
         ],
         "name": "",
         "type": "choropleth",
         "z": [
          0.95,
          1.2,
          0.49
         ]
        },
        {
         "coloraxis": "coloraxis",
         "geo": "geo6",
         "hovertemplate": "<b>%{hovertext}</b><br><br>Year Range=[1995, 2000)<br>alpha-3=%{location}<br>ASD Prevalence Estimate per 1,000=%{z}<extra></extra>",
         "hovertext": [
          "Cumulative incidence and prevalence of childhood autism in children in Japan",
          "Autism and associated medical disorders in a French epidemiological survey",
          "Autism in 3-6 year-old children in a suburb of Goteborg, Sweden",
          "The changing prevalence of autistic disorder in a Welsh health district",
          "Autism and related disorders: Epidemiological findings in a Norwegian study using ICD-10 diagnostic criteria",
          "Brief report: autism and asperger syndrome in seven-year-old children: a total population study",
          "Autism and measles, mumps, and rubella vaccine: No epidemiological evidence for a causal association",
          "Prevalence and impact of parent-reported disabling mental health conditions among U.S. children"
         ],
         "locations": [
          "JPN",
          "FRA",
          "SWE",
          null,
          "NOR",
          "SWE",
          "GBR",
          "USA"
         ],
         "name": "",
         "type": "choropleth",
         "z": [
          2.11,
          0.54,
          4.6,
          0.72,
          0.52,
          12.1,
          1.01,
          0.38
         ]
        },
        {
         "coloraxis": "coloraxis",
         "geo": "geo5",
         "hovertemplate": "<b>%{hovertext}</b><br><br>Year Range=[2000, 2005)<br>alpha-3=%{location}<br>ASD Prevalence Estimate per 1,000=%{z}<extra></extra>",
         "hovertext": [
          "A screening instrument for autism at 18 months of age: a 6-year follow-up study",
          "Prevalence of autism in Missouri: changing trends and the effect of a comprehensive state autism project",
          "Changes in the incidence if childhood autism and other autistic spectrum disorders in preschool children from two areas of the west midlands, UK",
          "Autism in Northern Finland",
          "Prevalence of autism in Iceland",
          "Prevalence of pervasive developmental disorders in the British Nationwide survey of Child mental health",
          "Pervasive Developmental Disorders in Preschool Children",
          "Prevalence of Autism in a United States Population: The Brick Township, New Jersey, Investigation",
          "The changing prevalence of autism in California",
          "Brief report: prevalence of autism spectrum conditions in children aged 5-11 years in Cambridgeshire, UK.",
          "Prevalence of autism in a US metropolitan area",
          "Analysis of prevalence trends of autism spectrum disorder in Minnesota",
          "Prevalence of autism and parentally reported triggers in a north east London population",
          "Prevalence of autistic spectrum disorder in children attending mainstream schools in a Welsh education authority",
          "A comparative evaluation of the effects of MMR immunization and mercury doses from thimerosal-containing childhood vaccines on the population prevalence of autism",
          "Childhood autism spectrum disorder in the Barwon region: A community based study",
          "Does routine health surveillance contribute to the early detection of children with pervasive developmental disorders? - An epidemiological study in Kent, U.K.",
          "The incidence of pervasive developmental disorders: a Danish population-based study"
         ],
         "locations": [
          "GBR",
          "USA",
          "GBR",
          "FIN",
          "ISL",
          null,
          "GBR",
          "USA",
          "USA",
          "GBR",
          "USA",
          "USA",
          "GBR",
          null,
          "USA",
          "AUS",
          "GBR",
          "DNK"
         ],
         "name": "",
         "type": "choropleth",
         "z": [
          5.79,
          0.14,
          2.02,
          1.39,
          1.32,
          2.61,
          6.26,
          6.7,
          1.1,
          5.7,
          3.4,
          6.6,
          3.05,
          2.02,
          2.78,
          3.92,
          8.28,
          3.02
         ]
        },
        {
         "coloraxis": "coloraxis",
         "geo": "geo4",
         "hovertemplate": "<b>%{hovertext}</b><br><br>Year Range=[2005, 2010)<br>alpha-3=%{location}<br>ASD Prevalence Estimate per 1,000=%{z}<extra></extra>",
         "hovertext": [
          "Pervasive Developmental Disorders in Preschool Children: Confirmation of High Prevalence",
          "Cumulative incidence of childhood autism: a total population study of better acuracy and precision",
          "National autism prevalence trends from United States special education data",
          "Parents and teachers reports of DSM-IV psychopathological symptoms in preschool children: differences between urban-rural Spanish areas",
          "Autism and mental retardation of young children in Chi",
          "Pervasive developmental disorders in Montreal, Quebec, Canada: Prevalence and links with immunizations",
          "Emotional, developmental, and behavioral health of American children and their families: a report from the 2003 National Survey of Children's Health",
          "Prevalence of disorders of the autism spectrum in a population cohort of children in South Thames: the Special Needs and Autism Project (SP)",
          "Brief Report:\" The Autism Epidemic\". The registered prevalence of autism in a Swedish urban area",
          "Prevalence of autistic spectrum disorders in Lothian, Scotland: an estimate using the \"capture-recapture: technique",
          "Prevalence of pervasive developmental disorders in two Canadian provinces",
          "The population prevalence of child psychiatric disorders in Danish 8- to 9-year-old children",
          "The contribution of diagnostic substitution to the growing administrative prevalence of autism in US special education",
          "Prevalence of autism spectrum disorders - Autism and Developmental Disabilites Monitoring Network, six sites, United States, 2000",
          "Prevalence of autism spectrum disorders - Autism and Developmental Disabilites Monitoring Network, 14 sites, United States, 2002",
          "Trends for special education code assignment for autism: Implication for prevalence estimates",
          "Autism in the Faroe Islands. An epidemiological study",
          "Maternal and paternal age an risk of autism spectrum disorders",
          "Diagnostic trends in autistic spectrum disorders in the South Wales valleys",
          "Epidemiology of autism spectrum disorder in Portugal: prevalence, clinical characterization, and medical conditions",
          "Prevalence of pervasive developmental disorders in preschool children in the UAE",
          "Trends in autism prevalence: diagnostic substitution revisited",
          "Autism prevalence trends over time in Denmark: changes in prevalence and age at diagnosis",
          "Epidemiological study of autism spectrum disorder in Chi",
          "The prevalence of autism in Australia. Can it be established from existing data?",
          "Epidemiological findings of pervasive developmental disorders in a Venezuelan study",
          "Prevalence and characteristics of autistic spectrum disorders in the ALSPAC cohort",
          "Prevalence and Characteristics of Children with Autism-Spectrum Disorders",
          "Prevalence of autism-spectrum conditions: UK school-based population study",
          "Prevalence of autism spectrum disorders - Autism and Developmental Disabilities Monitoring Network, United States, 2006",
          "Autism spectrum disorders in preschool-aged children: Prevalence and comparison to a school-aged population",
          "Autism spectrum disorders in young children: effect of changes in diagnostic practices",
          "Prevalence of treated autism spectrum disorders in Aruba",
          "Screening of 18-24-month-old children for autism in a semi-urban community in Sri Lanka",
          "Prevalence of parent-reported diagnosis of autism spectrum disorder among children in the US, 2007"
         ],
         "locations": [
          "GBR",
          "JPN",
          "USA",
          "ESP",
          "CHN",
          "CAN",
          "USA",
          "GBR",
          "SWE",
          null,
          "CAN",
          "DNK",
          "USA",
          "USA",
          "USA",
          "CAN",
          "DNK",
          "USA",
          null,
          "PRT",
          "ARE",
          "CAN",
          "DNK",
          "CHN",
          "AUS",
          null,
          "GBR",
          "USA",
          "GBR",
          "USA",
          "USA",
          "AUS",
          null,
          "LKA",
          "USA"
         ],
         "name": "",
         "type": "choropleth",
         "z": [
          5.87,
          4.12,
          2.41,
          17.2,
          1.1,
          6.49,
          5,
          11.61,
          5.33,
          4.42,
          2.91,
          11,
          3.1,
          6.7,
          6.6,
          4.31,
          5.6,
          4.5,
          6.12,
          0.92,
          2.9,
          4.31,
          6.19,
          1.6,
          6.25,
          1.7,
          6.19,
          6.2,
          15.7,
          9,
          8,
          2.34,
          5.3,
          10.7,
          11
         ]
        },
        {
         "coloraxis": "coloraxis",
         "geo": "geo3",
         "hovertemplate": "<b>%{hovertext}</b><br><br>Year Range=[2010, 2015)<br>alpha-3=%{location}<br>ASD Prevalence Estimate per 1,000=%{z}<extra></extra>",
         "hovertext": [
          "Prevalence of pervasive developmental disorders among children at the English Montreal school board",
          "The prevalence of autism spectrum disorders: impact of diagnostic instrument and non-response bias",
          "Trends in the prevalence of autism on the basis of special education data",
          "Autism spectrum disorder diagnoses in Stockholm preschoolers",
          "Brief report: Prevalence of autistic disorders in the Sultate of Oman",
          "Trends in the prevalence of developmental disabilities in US children, 1997-2008",
          "Socioeconomic Status and the Increased Prevalence of Autism in California",
          "A comparison of autism trends in Denmark and Western Australia",
          "A comparison of autism trends in Denmark and Western Australia",
          "Prevalence and incidence of autism spectrum disorders among Prevalence and incidence of autism spectrum disorders among national health insurance enrollees in Taiwan from 1996 to 2005 health insurance enrollees in Taiwan from 1996 to 2005",
          "Birth prevalence of autism spectrum disorders in the San Francisco Bay area by demographic and ascertainment source characteristics",
          "Prevalence of autism spectrum disorders in total population sample",
          "Brief report: prevalence of pervasive developmental disorder in Brazil: a pilot study",
          "Epidemiology of autism spectrum disorders in adults in the community in England",
          "Autism spectrum disorders according to DSM-IV-TR and comparison with DSM-5 draft criteria: an epidemiological study",
          "Changes in administrative prevalence of autism spectrum disorders: contribution of special education from 2002-2008",
          "The Arkansas Autism Developmental Disabilities Monitoring (AR ADDM) project: statewide autism surveillance in a rural state",
          "The rising prevalence of autism: A perspective longitudinal study in the Faroe Islands",
          "Prevalence of autism spectrum disorders--Autism and developmental disabilities monitoring network, 14 sites, United States, 2008",
          "Autism spectrum disorder, ADHD, epilepsy, and cerebral palsy in Norwegian children",
          "A national study of the prevalence of autism among five-year-old children in Iran",
          "Observed prevalence of autism spectrum disorders in two Norwegian counties",
          "Autism spectrum disorders in the Stockholm youth cohort: Design, prevalence, and validity",
          "Gender and geographic differences in the prevalence of autism spectrum disorders in children: analysis of data from the national disability registry of Taiwan",
          "The prevalence of autism spectrum disorders in toddlers: A population study of 2-year-old Swedish children",
          "Prevalence of autism spectrum disorders in Hispanic and non-Hispanic white children",
          "Parent-reported prevalence of autism spectrum disorders in US-born children: an assessment of changes within birth cohorts from the 2003 to the 2007 National Survey of Children's Health",
          "Epidemiology of autistic disorder in Bahrain: prevalence and obstetric and familial characteristics",
          "Prevalence and incidence of autism spectrum disorder in an Israeli population",
          "Trends in the prevalence of childhood disability: analysis of data from the national disability registry of Taiwan, 2000-2011",
          "Prevalence of autism spectrum disorders in Icelandic birth cohort",
          "Differences across counties in the registered prevalence of autism, ADHD, epilepsy and cerebral palsy in Norway",
          "Prevalence and incidence rates of autism in the UK: Time trend from 2004-2010 in children aged 8 years",
          "Changes in prevalence of parent-reported autism spectrum disorder in school-aged U.S. children: 2007 to 2011-2012",
          "Prevalence of autism spectrum disorder among children aged 8 years - Autism and developmental disabilities monitoring network, 11 sites, United States, 2010",
          "Prevalence and early signs of autism spectrum disorder (ASD) among 18-36 month-old children of Tianjin in China",
          "A comparison of DSM-IV pervasive developmental disorder and DSM-5 autism spectrum disorder prevalence in an epidemiologic sample",
          "The changing prevalence of autism in three regions of Canada",
          "Adaptation of the \"ten questions\" to screen for autism and other neurodevelopmental disorders in Uganda",
          "Prevalence of parent-reported ASD and ADHD in the UK: findings from the Millennium Cohort Study",
          "Increasing autism prevalence in metropolitan New Jersey",
          "Parental concerns, socioeconomic status, and the risk of autism spectrum conditions in a population-based study"
         ],
         "locations": [
          "CAN",
          "NOR",
          "USA",
          "SWE",
          "OMN",
          "USA",
          "USA",
          "DNK",
          "AUS",
          null,
          "USA",
          null,
          "BRA",
          "GBR",
          "FIN",
          "USA",
          "USA",
          "DNK",
          "USA",
          "NOR",
          null,
          "NOR",
          "SWE",
          null,
          "SWE",
          "USA",
          "USA",
          "BHR",
          "ISR",
          null,
          "ISL",
          "NOR",
          null,
          "USA",
          "USA",
          "CHN",
          null,
          "CAN",
          "UGA",
          null,
          "USA",
          null
         ],
         "name": "",
         "type": "choropleth",
         "z": [
          7.91,
          8.7,
          9,
          6.2,
          0.14,
          4.7,
          4.9,
          6.85,
          5.1,
          2.9,
          4.7,
          26.4,
          2.72,
          9.8,
          8.4,
          13,
          6.9,
          9.4,
          11.3,
          3.22,
          0.63,
          5.1,
          11.5,
          2.53,
          6.4,
          15,
          18.9,
          0.43,
          4.8,
          2.21,
          12,
          6,
          2.4,
          20,
          14.7,
          2.75,
          22,
          10.45,
          12,
          17,
          17.4,
          14
         ]
        },
        {
         "coloraxis": "coloraxis",
         "geo": "geo2",
         "hovertemplate": "<b>%{hovertext}</b><br><br>Year Range=[2015, 2020)<br>alpha-3=%{location}<br>ASD Prevalence Estimate per 1,000=%{z}<extra></extra>",
         "hovertext": [
          "Estimated prevalence of autism and other developmental disabilities following questionnaire changes in the 2014 natiol health interview survey",
          "The increasing prevalence of reported diagnoses of childhood psychiatric disorders: a descriptive multinational comparison",
          "The increasing prevalence of reported diagnoses of childhood psychiatric disorders: a descriptive multinational comparison",
          "The increasing prevalence of reported diagnoses of childhood psychiatric disorders: a descriptive multinational comparison",
          "The increasing prevalence of reported diagnoses of childhood psychiatric disorders: a descriptive multinational comparison",
          "Socioeconomic Disparities and Prevalence of Autism Spectrum Disorders and Intellectual Disability",
          "Changes in prevalence of autism spectrum disorders in 2001-2011: findings from the Stockholm youth cohort",
          "Autism phenotype versus registered diagnosis in Swedish children: prevalence trends over 10 years in general population samples",
          "Incidence and cohort prevalence for autism spectrum disorders in the Avalon Peninsula, Newfoundland and Labrador",
          "Exploring the Underdiagnosis and Prevalence of Autism Spectrum Conditions in Beijing",
          "Low but increasing prevalence of autism spectrum disorders in a French area from register-based data",
          "Trends in the prevalence of autism spectrum disorder, cerebral palsy, hearing loss, intellectual disability, and vision impairment, metropolitan atlanta, 1991-2010",
          "Prevalence of autism spectrum disorders in Ecuador: A pilot study in Quito",
          "Parental Age and Autism Spectrum Disorders Among New York City Children 0-36 Months of Age",
          "Screening for Autism in Iranian Preschoolers: Contrasting M-CHAT and a Scale Developed in Iran",
          "Neurodevelopmental delay among children under the age of three years at immunization clinics in Lagos State, Nigeria - Preliminary report",
          "Operationalisation of the European Protocol for Autism Prevalence (EPAP) for Autism Spectrum Disorder Prevalence Measurement in Ireland",
          "Population-Based Prevalence of Intellectual Disability and Autism Spectrum Disorders in Western Australia: A Comparison With Previous Estimates",
          "Prevalence of Autism Spectrum Disorder in Nurseries in Lebanon: A Cross Sectional Study",
          "Prevalence and characteristics of autism apectrum disorder among 4-year-old children in the Autism and Developmental Disabilities Monitoring Network",
          "Prevalence and socioeconomic correlates of autism among children attending primary and secondary schools in south east Nigeria",
          "Prevalence of autism apectrum aisorders in Guanajuato, Mexico: The Leon survey",
          "Autism spectrum disorder: Presentation and prevalence in a nationally representative Australian sample",
          "Prevalence of autism spectrum disorders in a semiurban community in South India",
          "Prevalence and characteristics of autism spectrum disorders among 8-years -- Autism and developmental disabilities monitoring network, 11 sites, United States, 2012",
          "Autism Spectrum Disorder Among US Children (2002-2010): Socioeconomic, Racial, and Ethnic Disparities",
          "Autism spectrum disorder: Updated prevalence and comparison of two birth cohorts in a nationally representative Australian sample",
          "Prevalence of Autism Spectrum Disorder among Rural, Urban, and Tribal Children (1-10 Years of Age)",
          "Prevalence of autism spectrum disorder and autistic symptoms in a school-based cohort of children in Kolkata, India",
          "The prevalence of autism spectrum disorders in West Pomeranian and Pomeranian Regions of Poland",
          "Brief Report: Estimated Prevalence of a Community Diagnosis of Autism Spectrum Disorder by Age 4 Years in Children from Selected Areas in the United States in 2010: Evaluation of Birth Cohort Effects",
          "Brief Report: Prevalence of Co-occurring Epilepsy and Autism Spectrum Disorder: The U.S. National Survey of Children's Health 2011-2012",
          "Prevalence of Autism Spectrum Disorders with and without Intellectual Disability by Gestational Age at Birth in the Stockholm Youth Cohort: a Register Linkage Study",
          "Estimated Prevalence of Children With Diagnosed Developmental Disabilities in the United States, 2014-2016",
          "The prevalence of parent-reported autism spectrum disorder among US children.",
          "Prevalence of childhood neurodevelopmental disorders across five regions in India",
          "Prevalence of autism spectrum disorder among children aged 8 years - Autism and developmental disabilities monitoring network, 11 sites, United States, 2014",
          "Prevalence of autism spectrum disorder among children and adolescents, 2014-2016",
          "The estimated prevalence of autism in school-aged children living in rural Nepal using a population-based screening tool",
          "Prevalence of long-term health conditions in adults with autism: Prevalence of long-term health conditions in adults with autism: observational study of a whole country population study of a whole country population",
          "Diagnoses of Autism Spectrum Disorders in Germany: Time Trends in Administrative Prevalence and Diagnostic Stability",
          "Prevalence and correlates of autism spectrum disorders in Quebec",
          "California autism prevalence trends from 1931 to 2014 and comparison to national ASD data from IDEA and ADDM",
          "Prevalence of Autism Spectrum Disorder in a large Italian catchment area: a school-based population study within the ASDEU project",
          "Prevalence of DSM-5 Autism Spectrum Disorder Among School-Based Children Aged 3-12 Years in Shanghai, China",
          "Prevalence of Autism Spectrum Disorder (ASD) among the children aged 18-36 months in a rural community of Bangladesh: A cross sectional study",
          "Prevalence and Characteristics of Autism Spectrum Disorder Among Spanish School-Age Children",
          "Autism prevalence in Chi is comparable to Western prevalence",
          "The prevalence and treatment patterns of autism spectrum disorder in the United States, 2016",
          "Assessment of racial and ethnic bias in autism spectrum disorder prevalence estimates from a US surveillance system",
          "Prevalence and Trends of Developmental Disabilities among Children in the United States: 2009-2017",
          "Prevalence and characteristics of autism spectrum disorder among children 4 years - Early autism and developmental disabilities monitoring network, seven sites, United Stated, 2010, 2012, and 2014",
          "Revisiting the prevalence of autism spectrum disorder among Omani children: A multicentre study",
          "Prevalence and correlates of autism spectrum disorder in Qatar: A national study",
          "Prevalence of DSM-5 mental disorders in a nationally representative sample of children in Taiwan: Methodology and main findings",
          "Prevalence of autism spectrum disorders and their relation to selected socio-demographic factors among children aged 18-30 months in northern Vietnam, 2017",
          "Prevalence of autism and its comorbidities and the relationship with maternal psychopathology: A national population-based study",
          "Temporal and Geographical Variability of Prevalence and Incidence of Autism Spectrum Disorder Diagnoses in Children in Catalonia, Spain",
          "Autism Prevalence in the Medicaid Program and Healthcare Utilization and Costs Among Adult Enrollees Diagnosed with Autism",
          "Annual trends in prevalence and incidence of autism spectrum disorders in Manitoba preschoolers and toddlers: 2004-2015"
         ],
         "locations": [
          "USA",
          "DNK",
          "FIN",
          "SWE",
          "AUS",
          "FRA",
          "SWE",
          "SWE",
          "CAN",
          "CHN",
          "FRA",
          "USA",
          "ECU",
          "USA",
          null,
          "NGA",
          "IRL",
          "AUS",
          "LBN",
          "USA",
          "NGA",
          "MEX",
          "AUS",
          "IND",
          "USA",
          "USA",
          "AUS",
          "IND",
          "IND",
          "POL",
          "USA",
          "USA",
          "SWE",
          "USA",
          "USA",
          "IND",
          "USA",
          "USA",
          "NPL",
          null,
          "DEU",
          "CAN",
          "USA",
          "ITA",
          "CHN",
          "BGD",
          "ESP",
          "CHN",
          "USA",
          "USA",
          "USA",
          "USA",
          "OMN",
          "QAT",
          null,
          null,
          null,
          "ESP",
          "USA",
          "CAN"
         ],
         "name": "",
         "type": "choropleth",
         "z": [
          22.4,
          11.4,
          7.5,
          6.6,
          5,
          3.6,
          15.4,
          4.2,
          21.6,
          11.9,
          3.65,
          15.5,
          1.1,
          4.3,
          9.52,
          1.33,
          10,
          4.1,
          15.3,
          13.4,
          29,
          8.7,
          25,
          2.33,
          14.6,
          11.9,
          39,
          1.5,
          2.3,
          3.5,
          8,
          18,
          21,
          24.7,
          25,
          14,
          16.8,
          24.7,
          3,
          1.77,
          3.8,
          12.2,
          11.8,
          7.9,
          0.758,
          0.75,
          15.5,
          10.8,
          27.9,
          12.6,
          17.4,
          17,
          2.04,
          11.4,
          10,
          7.52,
          1.8,
          12.3,
          3.66,
          9.7
         ]
        },
        {
         "coloraxis": "coloraxis",
         "geo": "geo",
         "hovertemplate": "<b>%{hovertext}</b><br><br>Year Range=[2020, 2025)<br>alpha-3=%{location}<br>ASD Prevalence Estimate per 1,000=%{z}<extra></extra>",
         "hovertext": [
          "Prevalence of autism spectrum disorder among children aged 8 years - Autism and developmental disabilities monitoring network, 11 sites, United States, 2016",
          "Early identification of autism spectrum disorder among children aged 4 years - Early autism and developmental disabilities monitoring network, six sites, United States, 2016",
          "Prevalence and economic burden of autism spectrum disorder in South Korea using national health insurance data from 2008 to 2015",
          "Prevalence and cumulative incidence of autism spectrum disorders and the patterns of co-occurring neurodevelopmental disorders in a total population sample of 5-year-old children",
          "Prevalence of Children Aged 3-17 Years With Developmental Disabilities, by Urbanicity: United States, 2015-2018",
          "The ASDEU autism prevalence study in northern Spain",
          "Autism spectrum disorder prevalence in children aged 12-13 years from the Longitudinal Study of Australian Children",
          "Prevalence Estimates of Neurodevelopmental Disorders in Japan: A community sample questionnaire study",
          "Autism Spectrum Disorders in Greece: Nationwide Prevalence in 10-11 Year-Old Children and Regional Disparities",
          "Prevalence of Autism Spectrum Disorder in Chi: A Nationwide Multi-center Population-based Study Among Children Aged 6 to 12 Years",
          "California Autism Prevalence by County and Race/Ethnicity: Declining Trends Among Wealthy Whites",
          "School-Based Autism Rates by State: An Analysis of Demographics, Political Leanings, and Differential Identification",
          "Neurodevelopmental disorders among Spanish school-age children: prevalence and sociodemographic correlates",
          "Identifying Children and Youth with Autism Spectrum Diorder in Electronic Medical Records: Examining Health System Utilization and Comorbidities",
          "Racial/ethnic disparities in the prevalence and trends of autism specrum disorder in US children and adolescents",
          "Autism spectrum disorder prevalence and associated sociodemographic factors in the school population: EPINED study",
          "Prevalence of autism spectrum disorder among Saudi children between 2 and 4 years old in Riyadh",
          "Prevalence of Autism Spectrum Disorder Among Children and Adolescents in the United States From 2019 to 2020",
          "Prevalence and Characteristics of Autism Spectrum Disorder Among Children Aged 8 Years - Autism and Developmental Disabilities Monitoring Network, 11 Sites, United States, 2018",
          "Association of Race/Ethnicity and Social Disadvantage With Autism Prevalence in 7 Million School Children in England",
          "Prevalence of autism spectrum disorder in a large, diverse metropolitan area: Variation by sociodemographic factors",
          "Prevalence of Autism Spectrum Disorder in Children in Andalusia (Spain)",
          "Prevalence and Premature Mortality Statistics of Autism Spectrum Disorder Among Children in Korea: A Nationwide Population-Based Birth Cohort Study"
         ],
         "locations": [
          "USA",
          "USA",
          null,
          "JPN",
          "USA",
          null,
          "AUS",
          "JPN",
          "GRC",
          "CHN",
          "USA",
          "USA",
          "ESP",
          "CAN",
          "USA",
          "ESP",
          "SAU",
          "USA",
          "USA",
          "GBR",
          "USA",
          "ESP",
          null
         ],
         "name": "",
         "type": "choropleth",
         "z": [
          18.5,
          15.6,
          0.11,
          32.2,
          25,
          5.9,
          43.6,
          19,
          11.5,
          7,
          15,
          12.3,
          7,
          13.2,
          24.9,
          15.3,
          25,
          31.4,
          23,
          17.6,
          36,
          8.65,
          7.12
         ]
        }
       ],
       "layout": {
        "annotations": [
         {
          "font": {},
          "showarrow": false,
          "text": "Year Range=[2020, 2025)",
          "textangle": 90,
          "x": 0.98,
          "xanchor": "left",
          "xref": "paper",
          "y": 0.027916666666666666,
          "yanchor": "middle",
          "yref": "paper"
         },
         {
          "font": {},
          "showarrow": false,
          "text": "Year Range=[2015, 2020)",
          "textangle": 90,
          "x": 0.98,
          "xanchor": "left",
          "xref": "paper",
          "y": 0.11374999999999999,
          "yanchor": "middle",
          "yref": "paper"
         },
         {
          "font": {},
          "showarrow": false,
          "text": "Year Range=[2010, 2015)",
          "textangle": 90,
          "x": 0.98,
          "xanchor": "left",
          "xref": "paper",
          "y": 0.19958333333333333,
          "yanchor": "middle",
          "yref": "paper"
         },
         {
          "font": {},
          "showarrow": false,
          "text": "Year Range=[2005, 2010)",
          "textangle": 90,
          "x": 0.98,
          "xanchor": "left",
          "xref": "paper",
          "y": 0.28541666666666665,
          "yanchor": "middle",
          "yref": "paper"
         },
         {
          "font": {},
          "showarrow": false,
          "text": "Year Range=[2000, 2005)",
          "textangle": 90,
          "x": 0.98,
          "xanchor": "left",
          "xref": "paper",
          "y": 0.37124999999999997,
          "yanchor": "middle",
          "yref": "paper"
         },
         {
          "font": {},
          "showarrow": false,
          "text": "Year Range=[1995, 2000)",
          "textangle": 90,
          "x": 0.98,
          "xanchor": "left",
          "xref": "paper",
          "y": 0.4570833333333334,
          "yanchor": "middle",
          "yref": "paper"
         },
         {
          "font": {},
          "showarrow": false,
          "text": "Year Range=[1990, 1995)",
          "textangle": 90,
          "x": 0.98,
          "xanchor": "left",
          "xref": "paper",
          "y": 0.5429166666666667,
          "yanchor": "middle",
          "yref": "paper"
         },
         {
          "font": {},
          "showarrow": false,
          "text": "Year Range=[1985, 1990)",
          "textangle": 90,
          "x": 0.98,
          "xanchor": "left",
          "xref": "paper",
          "y": 0.6287499999999999,
          "yanchor": "middle",
          "yref": "paper"
         },
         {
          "font": {},
          "showarrow": false,
          "text": "Year Range=[1980, 1985)",
          "textangle": 90,
          "x": 0.98,
          "xanchor": "left",
          "xref": "paper",
          "y": 0.7145833333333333,
          "yanchor": "middle",
          "yref": "paper"
         },
         {
          "font": {},
          "showarrow": false,
          "text": "Year Range=[1975, 1980)",
          "textangle": 90,
          "x": 0.98,
          "xanchor": "left",
          "xref": "paper",
          "y": 0.8004166666666668,
          "yanchor": "middle",
          "yref": "paper"
         },
         {
          "font": {},
          "showarrow": false,
          "text": "Year Range=[1970, 1975)",
          "textangle": 90,
          "x": 0.98,
          "xanchor": "left",
          "xref": "paper",
          "y": 0.88625,
          "yanchor": "middle",
          "yref": "paper"
         },
         {
          "font": {},
          "showarrow": false,
          "text": "Year Range=[1965, 1970)",
          "textangle": 90,
          "x": 0.98,
          "xanchor": "left",
          "xref": "paper",
          "y": 0.9720833333333332,
          "yanchor": "middle",
          "yref": "paper"
         }
        ],
        "coloraxis": {
         "cmax": 12,
         "cmin": 0,
         "colorbar": {
          "title": {
           "text": "ASD Prevalence Estimate per 1,000"
          }
         },
         "colorscale": [
          [
           0,
           "#440154"
          ],
          [
           0.1111111111111111,
           "#482878"
          ],
          [
           0.2222222222222222,
           "#3e4989"
          ],
          [
           0.3333333333333333,
           "#31688e"
          ],
          [
           0.4444444444444444,
           "#26828e"
          ],
          [
           0.5555555555555556,
           "#1f9e89"
          ],
          [
           0.6666666666666666,
           "#35b779"
          ],
          [
           0.7777777777777778,
           "#6ece58"
          ],
          [
           0.8888888888888888,
           "#b5de2b"
          ],
          [
           1,
           "#fde725"
          ]
         ]
        },
        "geo": {
         "center": {},
         "domain": {
          "x": [
           0,
           0.98
          ],
          "y": [
           0,
           0.05583333333333333
          ]
         }
        },
        "geo10": {
         "center": {},
         "domain": {
          "x": [
           0,
           0.98
          ],
          "y": [
           0.7725000000000001,
           0.8283333333333334
          ]
         }
        },
        "geo11": {
         "center": {},
         "domain": {
          "x": [
           0,
           0.98
          ],
          "y": [
           0.8583333333333334,
           0.9141666666666667
          ]
         }
        },
        "geo12": {
         "center": {},
         "domain": {
          "x": [
           0,
           0.98
          ],
          "y": [
           0.9441666666666666,
           0.9999999999999999
          ]
         }
        },
        "geo2": {
         "center": {},
         "domain": {
          "x": [
           0,
           0.98
          ],
          "y": [
           0.08583333333333333,
           0.14166666666666666
          ]
         }
        },
        "geo3": {
         "center": {},
         "domain": {
          "x": [
           0,
           0.98
          ],
          "y": [
           0.17166666666666666,
           0.22749999999999998
          ]
         }
        },
        "geo4": {
         "center": {},
         "domain": {
          "x": [
           0,
           0.98
          ],
          "y": [
           0.25749999999999995,
           0.3133333333333333
          ]
         }
        },
        "geo5": {
         "center": {},
         "domain": {
          "x": [
           0,
           0.98
          ],
          "y": [
           0.3433333333333333,
           0.39916666666666667
          ]
         }
        },
        "geo6": {
         "center": {},
         "domain": {
          "x": [
           0,
           0.98
          ],
          "y": [
           0.4291666666666667,
           0.48500000000000004
          ]
         }
        },
        "geo7": {
         "center": {},
         "domain": {
          "x": [
           0,
           0.98
          ],
          "y": [
           0.515,
           0.5708333333333333
          ]
         }
        },
        "geo8": {
         "center": {},
         "domain": {
          "x": [
           0,
           0.98
          ],
          "y": [
           0.6008333333333333,
           0.6566666666666666
          ]
         }
        },
        "geo9": {
         "center": {},
         "domain": {
          "x": [
           0,
           0.98
          ],
          "y": [
           0.6866666666666668,
           0.7425
          ]
         }
        },
        "height": 2000,
        "legend": {
         "tracegroupgap": 0
        },
        "margin": {
         "t": 60
        },
        "template": {
         "data": {
          "bar": [
           {
            "error_x": {
             "color": "#2a3f5f"
            },
            "error_y": {
             "color": "#2a3f5f"
            },
            "marker": {
             "line": {
              "color": "#E5ECF6",
              "width": 0.5
             },
             "pattern": {
              "fillmode": "overlay",
              "size": 10,
              "solidity": 0.2
             }
            },
            "type": "bar"
           }
          ],
          "barpolar": [
           {
            "marker": {
             "line": {
              "color": "#E5ECF6",
              "width": 0.5
             },
             "pattern": {
              "fillmode": "overlay",
              "size": 10,
              "solidity": 0.2
             }
            },
            "type": "barpolar"
           }
          ],
          "carpet": [
           {
            "aaxis": {
             "endlinecolor": "#2a3f5f",
             "gridcolor": "white",
             "linecolor": "white",
             "minorgridcolor": "white",
             "startlinecolor": "#2a3f5f"
            },
            "baxis": {
             "endlinecolor": "#2a3f5f",
             "gridcolor": "white",
             "linecolor": "white",
             "minorgridcolor": "white",
             "startlinecolor": "#2a3f5f"
            },
            "type": "carpet"
           }
          ],
          "choropleth": [
           {
            "colorbar": {
             "outlinewidth": 0,
             "ticks": ""
            },
            "type": "choropleth"
           }
          ],
          "contour": [
           {
            "colorbar": {
             "outlinewidth": 0,
             "ticks": ""
            },
            "colorscale": [
             [
              0,
              "#0d0887"
             ],
             [
              0.1111111111111111,
              "#46039f"
             ],
             [
              0.2222222222222222,
              "#7201a8"
             ],
             [
              0.3333333333333333,
              "#9c179e"
             ],
             [
              0.4444444444444444,
              "#bd3786"
             ],
             [
              0.5555555555555556,
              "#d8576b"
             ],
             [
              0.6666666666666666,
              "#ed7953"
             ],
             [
              0.7777777777777778,
              "#fb9f3a"
             ],
             [
              0.8888888888888888,
              "#fdca26"
             ],
             [
              1,
              "#f0f921"
             ]
            ],
            "type": "contour"
           }
          ],
          "contourcarpet": [
           {
            "colorbar": {
             "outlinewidth": 0,
             "ticks": ""
            },
            "type": "contourcarpet"
           }
          ],
          "heatmap": [
           {
            "colorbar": {
             "outlinewidth": 0,
             "ticks": ""
            },
            "colorscale": [
             [
              0,
              "#0d0887"
             ],
             [
              0.1111111111111111,
              "#46039f"
             ],
             [
              0.2222222222222222,
              "#7201a8"
             ],
             [
              0.3333333333333333,
              "#9c179e"
             ],
             [
              0.4444444444444444,
              "#bd3786"
             ],
             [
              0.5555555555555556,
              "#d8576b"
             ],
             [
              0.6666666666666666,
              "#ed7953"
             ],
             [
              0.7777777777777778,
              "#fb9f3a"
             ],
             [
              0.8888888888888888,
              "#fdca26"
             ],
             [
              1,
              "#f0f921"
             ]
            ],
            "type": "heatmap"
           }
          ],
          "heatmapgl": [
           {
            "colorbar": {
             "outlinewidth": 0,
             "ticks": ""
            },
            "colorscale": [
             [
              0,
              "#0d0887"
             ],
             [
              0.1111111111111111,
              "#46039f"
             ],
             [
              0.2222222222222222,
              "#7201a8"
             ],
             [
              0.3333333333333333,
              "#9c179e"
             ],
             [
              0.4444444444444444,
              "#bd3786"
             ],
             [
              0.5555555555555556,
              "#d8576b"
             ],
             [
              0.6666666666666666,
              "#ed7953"
             ],
             [
              0.7777777777777778,
              "#fb9f3a"
             ],
             [
              0.8888888888888888,
              "#fdca26"
             ],
             [
              1,
              "#f0f921"
             ]
            ],
            "type": "heatmapgl"
           }
          ],
          "histogram": [
           {
            "marker": {
             "pattern": {
              "fillmode": "overlay",
              "size": 10,
              "solidity": 0.2
             }
            },
            "type": "histogram"
           }
          ],
          "histogram2d": [
           {
            "colorbar": {
             "outlinewidth": 0,
             "ticks": ""
            },
            "colorscale": [
             [
              0,
              "#0d0887"
             ],
             [
              0.1111111111111111,
              "#46039f"
             ],
             [
              0.2222222222222222,
              "#7201a8"
             ],
             [
              0.3333333333333333,
              "#9c179e"
             ],
             [
              0.4444444444444444,
              "#bd3786"
             ],
             [
              0.5555555555555556,
              "#d8576b"
             ],
             [
              0.6666666666666666,
              "#ed7953"
             ],
             [
              0.7777777777777778,
              "#fb9f3a"
             ],
             [
              0.8888888888888888,
              "#fdca26"
             ],
             [
              1,
              "#f0f921"
             ]
            ],
            "type": "histogram2d"
           }
          ],
          "histogram2dcontour": [
           {
            "colorbar": {
             "outlinewidth": 0,
             "ticks": ""
            },
            "colorscale": [
             [
              0,
              "#0d0887"
             ],
             [
              0.1111111111111111,
              "#46039f"
             ],
             [
              0.2222222222222222,
              "#7201a8"
             ],
             [
              0.3333333333333333,
              "#9c179e"
             ],
             [
              0.4444444444444444,
              "#bd3786"
             ],
             [
              0.5555555555555556,
              "#d8576b"
             ],
             [
              0.6666666666666666,
              "#ed7953"
             ],
             [
              0.7777777777777778,
              "#fb9f3a"
             ],
             [
              0.8888888888888888,
              "#fdca26"
             ],
             [
              1,
              "#f0f921"
             ]
            ],
            "type": "histogram2dcontour"
           }
          ],
          "mesh3d": [
           {
            "colorbar": {
             "outlinewidth": 0,
             "ticks": ""
            },
            "type": "mesh3d"
           }
          ],
          "parcoords": [
           {
            "line": {
             "colorbar": {
              "outlinewidth": 0,
              "ticks": ""
             }
            },
            "type": "parcoords"
           }
          ],
          "pie": [
           {
            "automargin": true,
            "type": "pie"
           }
          ],
          "scatter": [
           {
            "marker": {
             "colorbar": {
              "outlinewidth": 0,
              "ticks": ""
             }
            },
            "type": "scatter"
           }
          ],
          "scatter3d": [
           {
            "line": {
             "colorbar": {
              "outlinewidth": 0,
              "ticks": ""
             }
            },
            "marker": {
             "colorbar": {
              "outlinewidth": 0,
              "ticks": ""
             }
            },
            "type": "scatter3d"
           }
          ],
          "scattercarpet": [
           {
            "marker": {
             "colorbar": {
              "outlinewidth": 0,
              "ticks": ""
             }
            },
            "type": "scattercarpet"
           }
          ],
          "scattergeo": [
           {
            "marker": {
             "colorbar": {
              "outlinewidth": 0,
              "ticks": ""
             }
            },
            "type": "scattergeo"
           }
          ],
          "scattergl": [
           {
            "marker": {
             "colorbar": {
              "outlinewidth": 0,
              "ticks": ""
             }
            },
            "type": "scattergl"
           }
          ],
          "scattermapbox": [
           {
            "marker": {
             "colorbar": {
              "outlinewidth": 0,
              "ticks": ""
             }
            },
            "type": "scattermapbox"
           }
          ],
          "scatterpolar": [
           {
            "marker": {
             "colorbar": {
              "outlinewidth": 0,
              "ticks": ""
             }
            },
            "type": "scatterpolar"
           }
          ],
          "scatterpolargl": [
           {
            "marker": {
             "colorbar": {
              "outlinewidth": 0,
              "ticks": ""
             }
            },
            "type": "scatterpolargl"
           }
          ],
          "scatterternary": [
           {
            "marker": {
             "colorbar": {
              "outlinewidth": 0,
              "ticks": ""
             }
            },
            "type": "scatterternary"
           }
          ],
          "surface": [
           {
            "colorbar": {
             "outlinewidth": 0,
             "ticks": ""
            },
            "colorscale": [
             [
              0,
              "#0d0887"
             ],
             [
              0.1111111111111111,
              "#46039f"
             ],
             [
              0.2222222222222222,
              "#7201a8"
             ],
             [
              0.3333333333333333,
              "#9c179e"
             ],
             [
              0.4444444444444444,
              "#bd3786"
             ],
             [
              0.5555555555555556,
              "#d8576b"
             ],
             [
              0.6666666666666666,
              "#ed7953"
             ],
             [
              0.7777777777777778,
              "#fb9f3a"
             ],
             [
              0.8888888888888888,
              "#fdca26"
             ],
             [
              1,
              "#f0f921"
             ]
            ],
            "type": "surface"
           }
          ],
          "table": [
           {
            "cells": {
             "fill": {
              "color": "#EBF0F8"
             },
             "line": {
              "color": "white"
             }
            },
            "header": {
             "fill": {
              "color": "#C8D4E3"
             },
             "line": {
              "color": "white"
             }
            },
            "type": "table"
           }
          ]
         },
         "layout": {
          "annotationdefaults": {
           "arrowcolor": "#2a3f5f",
           "arrowhead": 0,
           "arrowwidth": 1
          },
          "autotypenumbers": "strict",
          "coloraxis": {
           "colorbar": {
            "outlinewidth": 0,
            "ticks": ""
           }
          },
          "colorscale": {
           "diverging": [
            [
             0,
             "#8e0152"
            ],
            [
             0.1,
             "#c51b7d"
            ],
            [
             0.2,
             "#de77ae"
            ],
            [
             0.3,
             "#f1b6da"
            ],
            [
             0.4,
             "#fde0ef"
            ],
            [
             0.5,
             "#f7f7f7"
            ],
            [
             0.6,
             "#e6f5d0"
            ],
            [
             0.7,
             "#b8e186"
            ],
            [
             0.8,
             "#7fbc41"
            ],
            [
             0.9,
             "#4d9221"
            ],
            [
             1,
             "#276419"
            ]
           ],
           "sequential": [
            [
             0,
             "#0d0887"
            ],
            [
             0.1111111111111111,
             "#46039f"
            ],
            [
             0.2222222222222222,
             "#7201a8"
            ],
            [
             0.3333333333333333,
             "#9c179e"
            ],
            [
             0.4444444444444444,
             "#bd3786"
            ],
            [
             0.5555555555555556,
             "#d8576b"
            ],
            [
             0.6666666666666666,
             "#ed7953"
            ],
            [
             0.7777777777777778,
             "#fb9f3a"
            ],
            [
             0.8888888888888888,
             "#fdca26"
            ],
            [
             1,
             "#f0f921"
            ]
           ],
           "sequentialminus": [
            [
             0,
             "#0d0887"
            ],
            [
             0.1111111111111111,
             "#46039f"
            ],
            [
             0.2222222222222222,
             "#7201a8"
            ],
            [
             0.3333333333333333,
             "#9c179e"
            ],
            [
             0.4444444444444444,
             "#bd3786"
            ],
            [
             0.5555555555555556,
             "#d8576b"
            ],
            [
             0.6666666666666666,
             "#ed7953"
            ],
            [
             0.7777777777777778,
             "#fb9f3a"
            ],
            [
             0.8888888888888888,
             "#fdca26"
            ],
            [
             1,
             "#f0f921"
            ]
           ]
          },
          "colorway": [
           "#636efa",
           "#EF553B",
           "#00cc96",
           "#ab63fa",
           "#FFA15A",
           "#19d3f3",
           "#FF6692",
           "#B6E880",
           "#FF97FF",
           "#FECB52"
          ],
          "font": {
           "color": "#2a3f5f"
          },
          "geo": {
           "bgcolor": "white",
           "lakecolor": "white",
           "landcolor": "#E5ECF6",
           "showlakes": true,
           "showland": true,
           "subunitcolor": "white"
          },
          "hoverlabel": {
           "align": "left"
          },
          "hovermode": "closest",
          "mapbox": {
           "style": "light"
          },
          "paper_bgcolor": "white",
          "plot_bgcolor": "#E5ECF6",
          "polar": {
           "angularaxis": {
            "gridcolor": "white",
            "linecolor": "white",
            "ticks": ""
           },
           "bgcolor": "#E5ECF6",
           "radialaxis": {
            "gridcolor": "white",
            "linecolor": "white",
            "ticks": ""
           }
          },
          "scene": {
           "xaxis": {
            "backgroundcolor": "#E5ECF6",
            "gridcolor": "white",
            "gridwidth": 2,
            "linecolor": "white",
            "showbackground": true,
            "ticks": "",
            "zerolinecolor": "white"
           },
           "yaxis": {
            "backgroundcolor": "#E5ECF6",
            "gridcolor": "white",
            "gridwidth": 2,
            "linecolor": "white",
            "showbackground": true,
            "ticks": "",
            "zerolinecolor": "white"
           },
           "zaxis": {
            "backgroundcolor": "#E5ECF6",
            "gridcolor": "white",
            "gridwidth": 2,
            "linecolor": "white",
            "showbackground": true,
            "ticks": "",
            "zerolinecolor": "white"
           }
          },
          "shapedefaults": {
           "line": {
            "color": "#2a3f5f"
           }
          },
          "ternary": {
           "aaxis": {
            "gridcolor": "white",
            "linecolor": "white",
            "ticks": ""
           },
           "baxis": {
            "gridcolor": "white",
            "linecolor": "white",
            "ticks": ""
           },
           "bgcolor": "#E5ECF6",
           "caxis": {
            "gridcolor": "white",
            "linecolor": "white",
            "ticks": ""
           }
          },
          "title": {
           "x": 0.05
          },
          "xaxis": {
           "automargin": true,
           "gridcolor": "white",
           "linecolor": "white",
           "ticks": "",
           "title": {
            "standoff": 15
           },
           "zerolinecolor": "white",
           "zerolinewidth": 2
          },
          "yaxis": {
           "automargin": true,
           "gridcolor": "white",
           "linecolor": "white",
           "ticks": "",
           "title": {
            "standoff": 15
           },
           "zerolinecolor": "white",
           "zerolinewidth": 2
          }
         }
        },
        "width": 3000
       }
      },
      "text/html": [
       "<div>                            <div id=\"8b0d95cd-392a-431b-b131-692e96c0fa11\" class=\"plotly-graph-div\" style=\"height:2000px; width:3000px;\"></div>            <script type=\"text/javascript\">                require([\"plotly\"], function(Plotly) {                    window.PLOTLYENV=window.PLOTLYENV || {};                                    if (document.getElementById(\"8b0d95cd-392a-431b-b131-692e96c0fa11\")) {                    Plotly.newPlot(                        \"8b0d95cd-392a-431b-b131-692e96c0fa11\",                        [{\"coloraxis\":\"coloraxis\",\"geo\":\"geo12\",\"hovertemplate\":\"<b>%{hovertext}</b><br><br>Year Range=[1965, 1970)<br>alpha-3=%{location}<br>ASD Prevalence Estimate per 1,000=%{z}<extra></extra>\",\"hovertext\":[\"Epidemiology of Autistic Conditions in Young Children\"],\"locations\":[\"GBR\"],\"name\":\"\",\"z\":[0.45],\"type\":\"choropleth\"},{\"coloraxis\":\"coloraxis\",\"geo\":\"geo11\",\"hovertemplate\":\"<b>%{hovertext}</b><br><br>Year Range=[1970, 1975)<br>alpha-3=%{location}<br>ASD Prevalence Estimate per 1,000=%{z}<extra></extra>\",\"hovertext\":[\"Epidemiology of infantile Autism\",\"A Prevalence investigation of Childhood Psychoses\"],\"locations\":[\"USA\",\"DNK\"],\"name\":\"\",\"z\":[0.077,0.43],\"type\":\"choropleth\"},{\"coloraxis\":\"coloraxis\",\"geo\":\"geo10\",\"hovertemplate\":\"<b>%{hovertext}</b><br><br>Year Range=[1975, 1980)<br>alpha-3=%{location}<br>ASD Prevalence Estimate per 1,000=%{z}<extra></extra>\",\"hovertext\":[\"The prevalence of early childhood autism: comparison of administrative and epidemiological studies\",\"Severe impairments of social interaction and associated abnormalities in children: Epidemiology and classification\"],\"locations\":[\"GBR\",\"GBR\"],\"name\":\"\",\"z\":[4.48,0.49],\"type\":\"choropleth\"},{\"coloraxis\":\"coloraxis\",\"geo\":\"geo9\",\"hovertemplate\":\"<b>%{hovertext}</b><br><br>Year Range=[1980, 1985)<br>alpha-3=%{location}<br>ASD Prevalence Estimate per 1,000=%{z}<extra></extra>\",\"hovertext\":[\"The epidemiological study of autism in Fukushima-ken\",\"Childhood psychosis in a northern Swedish county: Some preliminary findings from an epidemiological survey\",\"Prevalence of childhood autism in Ireland.\",\"Infantile autism and other child psychoses in a Swedish urban region\"],\"locations\":[\"JPN\",\"SWE\",\"IRL\",\"SWE\"],\"name\":\"\",\"z\":[0.525,0.56,0.43,0.2],\"type\":\"choropleth\"},{\"coloraxis\":\"coloraxis\",\"geo\":\"geo8\",\"hovertemplate\":\"<b>%{hovertext}</b><br><br>Year Range=[1985, 1990)<br>alpha-3=%{location}<br>ASD Prevalence Estimate per 1,000=%{z}<extra></extra>\",\"hovertext\":[\"A community survey of infantile autism\",\"Autism and autism-like conditions in Swedish rural and urban areas: a population study\",\"High prevalence of infantile autism in Kurume City, Japan\",\"A Prevalence Study of Pervasive Developmental Disorders in North Dakota\",\"First report of a Canadian epidemiological study of autistic syndromes\",\"Epidemiology of infantile autism in southern Ibaraki, japan: differences in prevalence in birth cohorts\",\"An epidemiological study of infantile autism in a French department (Rh\\u00f4ne): A research note\",\"The prevalence of autism in Nagoya, Japan: A total population study\",\"The UCLA-University of Utah epidemiologic survey of autism: prevalence\"],\"locations\":[\"DEU\",\"SWE\",\"JPN\",\"USA\",\"CAN\",\"JPN\",\"FRA\",\"JPN\",\"USA\"],\"name\":\"\",\"z\":[0.19,0.66,1.55,0.33,1.01,1.38,0.45,1.3,0.357],\"type\":\"choropleth\"},{\"coloraxis\":\"coloraxis\",\"geo\":\"geo7\",\"hovertemplate\":\"<b>%{hovertext}</b><br><br>Year Range=[1990, 1995)<br>alpha-3=%{location}<br>ASD Prevalence Estimate per 1,000=%{z}<extra></extra>\",\"hovertext\":[\"Is autism more common now than ten years ago?\",\"Epidemiological and clinical study of autistic children in Yogyakarta, Indonesia\",\"Prevalence of infantile autism in four French regions\"],\"locations\":[\"SWE\",\"IDN\",\"FRA\"],\"name\":\"\",\"z\":[0.95,1.2,0.49],\"type\":\"choropleth\"},{\"coloraxis\":\"coloraxis\",\"geo\":\"geo6\",\"hovertemplate\":\"<b>%{hovertext}</b><br><br>Year Range=[1995, 2000)<br>alpha-3=%{location}<br>ASD Prevalence Estimate per 1,000=%{z}<extra></extra>\",\"hovertext\":[\"Cumulative incidence and prevalence of childhood autism in children in Japan\",\"Autism and associated medical disorders in a French epidemiological survey\",\"Autism in 3-6 year-old children in a suburb of Goteborg, Sweden\",\"The changing prevalence of autistic disorder in a Welsh health district\",\"Autism and related disorders: Epidemiological findings in a Norwegian study using ICD-10 diagnostic criteria\",\"Brief report: autism and asperger syndrome in seven-year-old children: a total population study\",\"Autism and measles, mumps, and rubella vaccine: No epidemiological evidence for a causal association\",\"Prevalence and impact of parent-reported disabling mental health conditions among U.S. children\"],\"locations\":[\"JPN\",\"FRA\",\"SWE\",null,\"NOR\",\"SWE\",\"GBR\",\"USA\"],\"name\":\"\",\"z\":[2.11,0.54,4.6,0.72,0.52,12.1,1.01,0.38],\"type\":\"choropleth\"},{\"coloraxis\":\"coloraxis\",\"geo\":\"geo5\",\"hovertemplate\":\"<b>%{hovertext}</b><br><br>Year Range=[2000, 2005)<br>alpha-3=%{location}<br>ASD Prevalence Estimate per 1,000=%{z}<extra></extra>\",\"hovertext\":[\"A screening instrument for autism at 18 months of age: a 6-year follow-up study\",\"Prevalence of autism in Missouri: changing trends and the effect of a comprehensive state autism project\",\"Changes in the incidence if childhood autism and other autistic spectrum disorders in preschool children from two areas of the west midlands, UK\",\"Autism in Northern Finland\",\"Prevalence of autism in Iceland\",\"Prevalence of pervasive developmental disorders in the British Nationwide survey of Child mental health\",\"Pervasive Developmental Disorders in Preschool Children\",\"Prevalence of Autism in a United States Population: The Brick Township, New Jersey, Investigation\",\"The changing prevalence of autism in California\",\"Brief report: prevalence of autism spectrum conditions in children aged 5-11 years in Cambridgeshire, UK.\",\"Prevalence of autism in a US metropolitan area\",\"Analysis of prevalence trends of autism spectrum disorder in Minnesota\",\"Prevalence of autism and parentally reported triggers in a north east London population\",\"Prevalence of autistic spectrum disorder in children attending mainstream schools in a Welsh education authority\",\"A comparative evaluation of the effects of MMR immunization and mercury doses from thimerosal-containing childhood vaccines on the population prevalence of autism\",\"Childhood autism spectrum disorder in the Barwon region: A community based study\",\"Does routine health surveillance contribute to the early detection of children with pervasive developmental disorders? - An epidemiological study in Kent, U.K.\",\"The incidence of pervasive developmental disorders: a Danish population-based study\"],\"locations\":[\"GBR\",\"USA\",\"GBR\",\"FIN\",\"ISL\",null,\"GBR\",\"USA\",\"USA\",\"GBR\",\"USA\",\"USA\",\"GBR\",null,\"USA\",\"AUS\",\"GBR\",\"DNK\"],\"name\":\"\",\"z\":[5.79,0.14,2.02,1.39,1.32,2.61,6.26,6.7,1.1,5.7,3.4,6.6,3.05,2.02,2.78,3.92,8.28,3.02],\"type\":\"choropleth\"},{\"coloraxis\":\"coloraxis\",\"geo\":\"geo4\",\"hovertemplate\":\"<b>%{hovertext}</b><br><br>Year Range=[2005, 2010)<br>alpha-3=%{location}<br>ASD Prevalence Estimate per 1,000=%{z}<extra></extra>\",\"hovertext\":[\"Pervasive Developmental Disorders in Preschool Children: Confirmation of High Prevalence\",\"Cumulative incidence of childhood autism: a total population study of better acuracy and precision\",\"National autism prevalence trends from United States special education data\",\"Parents and teachers reports of DSM-IV psychopathological symptoms in preschool children: differences between urban-rural Spanish areas\",\"Autism and mental retardation of young children in Chi\",\"Pervasive developmental disorders in Montreal, Quebec, Canada: Prevalence and links with immunizations\",\"Emotional, developmental, and behavioral health of American children and their families: a report from the 2003 National Survey of Children's Health\",\"Prevalence of disorders of the autism spectrum in a population cohort of children in South Thames: the Special Needs and Autism Project (SP)\",\"Brief Report:\\\" The Autism Epidemic\\\". The registered prevalence of autism in a Swedish urban area\",\"Prevalence of autistic spectrum disorders in Lothian, Scotland: an estimate using the \\\"capture-recapture: technique\",\"Prevalence of pervasive developmental disorders in two Canadian provinces\",\"The population prevalence of child psychiatric disorders in Danish 8- to 9-year-old children\",\"The contribution of diagnostic substitution to the growing administrative prevalence of autism in US special education\",\"Prevalence of autism spectrum disorders - Autism and Developmental Disabilites Monitoring Network, six sites, United States, 2000\",\"Prevalence of autism spectrum disorders - Autism and Developmental Disabilites Monitoring Network, 14 sites, United States, 2002\",\"Trends for special education code assignment for autism: Implication for prevalence estimates\",\"Autism in the Faroe Islands. An epidemiological study\",\"Maternal and paternal age an risk of autism spectrum disorders\",\"Diagnostic trends in autistic spectrum disorders in the South Wales valleys\",\"Epidemiology of autism spectrum disorder in Portugal: prevalence, clinical characterization, and medical conditions\",\"Prevalence of pervasive developmental disorders in preschool children in the UAE\",\"Trends in autism prevalence: diagnostic substitution revisited\",\"Autism prevalence trends over time in Denmark: changes in prevalence and age at diagnosis\",\"Epidemiological study of autism spectrum disorder in Chi\",\"The prevalence of autism in Australia. Can it be established from existing data?\",\"Epidemiological findings of pervasive developmental disorders in a Venezuelan study\",\"Prevalence and characteristics of autistic spectrum disorders in the ALSPAC cohort\",\"Prevalence and Characteristics of Children with Autism-Spectrum Disorders\",\"Prevalence of autism-spectrum conditions: UK school-based population study\",\"Prevalence of autism spectrum disorders - Autism and Developmental Disabilities Monitoring Network, United States, 2006\",\"Autism spectrum disorders in preschool-aged children: Prevalence and comparison to a school-aged population\",\"Autism spectrum disorders in young children: effect of changes in diagnostic practices\",\"Prevalence of treated autism spectrum disorders in Aruba\",\"Screening of 18-24-month-old children for autism in a semi-urban community in Sri Lanka\",\"Prevalence of parent-reported diagnosis of autism spectrum disorder among children in the US, 2007\"],\"locations\":[\"GBR\",\"JPN\",\"USA\",\"ESP\",\"CHN\",\"CAN\",\"USA\",\"GBR\",\"SWE\",null,\"CAN\",\"DNK\",\"USA\",\"USA\",\"USA\",\"CAN\",\"DNK\",\"USA\",null,\"PRT\",\"ARE\",\"CAN\",\"DNK\",\"CHN\",\"AUS\",null,\"GBR\",\"USA\",\"GBR\",\"USA\",\"USA\",\"AUS\",null,\"LKA\",\"USA\"],\"name\":\"\",\"z\":[5.87,4.12,2.41,17.2,1.1,6.49,5.0,11.61,5.33,4.42,2.91,11.0,3.1,6.7,6.6,4.31,5.6,4.5,6.12,0.92,2.9,4.31,6.19,1.6,6.25,1.7,6.19,6.2,15.7,9.0,8.0,2.34,5.3,10.7,11.0],\"type\":\"choropleth\"},{\"coloraxis\":\"coloraxis\",\"geo\":\"geo3\",\"hovertemplate\":\"<b>%{hovertext}</b><br><br>Year Range=[2010, 2015)<br>alpha-3=%{location}<br>ASD Prevalence Estimate per 1,000=%{z}<extra></extra>\",\"hovertext\":[\"Prevalence of pervasive developmental disorders among children at the English Montreal school board\",\"The prevalence of autism spectrum disorders: impact of diagnostic instrument and non-response bias\",\"Trends in the prevalence of autism on the basis of special education data\",\"Autism spectrum disorder diagnoses in Stockholm preschoolers\",\"Brief report: Prevalence of autistic disorders in the Sultate of Oman\",\"Trends in the prevalence of developmental disabilities in US children, 1997-2008\",\"Socioeconomic Status and the Increased Prevalence of Autism in California\",\"A comparison of autism trends in Denmark and Western Australia\",\"A comparison of autism trends in Denmark and Western Australia\",\"Prevalence and incidence of autism spectrum disorders among Prevalence and incidence of autism spectrum disorders among national health insurance enrollees in Taiwan from 1996 to 2005 health insurance enrollees in Taiwan from 1996 to 2005\",\"Birth prevalence of autism spectrum disorders in the San Francisco Bay area by demographic and ascertainment source characteristics\",\"Prevalence of autism spectrum disorders in total population sample\",\"Brief report: prevalence of pervasive developmental disorder in Brazil: a pilot study\",\"Epidemiology of autism spectrum disorders in adults in the community in England\",\"Autism spectrum disorders according to DSM-IV-TR and comparison with DSM-5 draft criteria: an epidemiological study\",\"Changes in administrative prevalence of autism spectrum disorders: contribution of special education from 2002-2008\",\"The Arkansas Autism Developmental Disabilities Monitoring (AR ADDM) project: statewide autism surveillance in a rural state\",\"The rising prevalence of autism: A perspective longitudinal study in the Faroe Islands\",\"Prevalence of autism spectrum disorders--Autism and developmental disabilities monitoring network, 14 sites, United States, 2008\",\"Autism spectrum disorder, ADHD, epilepsy, and cerebral palsy in Norwegian children\",\"A national study of the prevalence of autism among five-year-old children in Iran\",\"Observed prevalence of autism spectrum disorders in two Norwegian counties\",\"Autism spectrum disorders in the Stockholm youth cohort: Design, prevalence, and validity\",\"Gender and geographic differences in the prevalence of autism spectrum disorders in children: analysis of data from the national disability registry of Taiwan\",\"The prevalence of autism spectrum disorders in toddlers: A population study of 2-year-old Swedish children\",\"Prevalence of autism spectrum disorders in Hispanic and non-Hispanic white children\",\"Parent-reported prevalence of autism spectrum disorders in US-born children: an assessment of changes within birth cohorts from the 2003 to the 2007 National Survey of Children's Health\",\"Epidemiology of autistic disorder in Bahrain: prevalence and obstetric and familial characteristics\",\"Prevalence and incidence of autism spectrum disorder in an Israeli population\",\"Trends in the prevalence of childhood disability: analysis of data from the national disability registry of Taiwan, 2000-2011\",\"Prevalence of autism spectrum disorders in Icelandic birth cohort\",\"Differences across counties in the registered prevalence of autism, ADHD, epilepsy and cerebral palsy in Norway\",\"Prevalence and incidence rates of autism in the UK: Time trend from 2004-2010 in children aged 8 years\",\"Changes in prevalence of parent-reported autism spectrum disorder in school-aged U.S. children: 2007 to 2011-2012\",\"Prevalence of autism spectrum disorder among children aged 8 years - Autism and developmental disabilities monitoring network, 11 sites, United States, 2010\",\"Prevalence and early signs of autism spectrum disorder (ASD) among 18-36 month-old children of Tianjin in China\",\"A comparison of DSM-IV pervasive developmental disorder and DSM-5 autism spectrum disorder prevalence in an epidemiologic sample\",\"The changing prevalence of autism in three regions of Canada\",\"Adaptation of the \\\"ten questions\\\" to screen for autism and other neurodevelopmental disorders in Uganda\",\"Prevalence of parent-reported ASD and ADHD in the UK: findings from the Millennium Cohort Study\",\"Increasing autism prevalence in metropolitan New Jersey\",\"Parental concerns, socioeconomic status, and the risk of autism spectrum conditions in a population-based study\"],\"locations\":[\"CAN\",\"NOR\",\"USA\",\"SWE\",\"OMN\",\"USA\",\"USA\",\"DNK\",\"AUS\",null,\"USA\",null,\"BRA\",\"GBR\",\"FIN\",\"USA\",\"USA\",\"DNK\",\"USA\",\"NOR\",null,\"NOR\",\"SWE\",null,\"SWE\",\"USA\",\"USA\",\"BHR\",\"ISR\",null,\"ISL\",\"NOR\",null,\"USA\",\"USA\",\"CHN\",null,\"CAN\",\"UGA\",null,\"USA\",null],\"name\":\"\",\"z\":[7.91,8.7,9.0,6.2,0.14,4.7,4.9,6.85,5.1,2.9,4.7,26.4,2.72,9.8,8.4,13.0,6.9,9.4,11.3,3.22,0.63,5.1,11.5,2.53,6.4,15.0,18.9,0.43,4.8,2.21,12.0,6.0,2.4,20.0,14.7,2.75,22.0,10.45,12.0,17.0,17.4,14.0],\"type\":\"choropleth\"},{\"coloraxis\":\"coloraxis\",\"geo\":\"geo2\",\"hovertemplate\":\"<b>%{hovertext}</b><br><br>Year Range=[2015, 2020)<br>alpha-3=%{location}<br>ASD Prevalence Estimate per 1,000=%{z}<extra></extra>\",\"hovertext\":[\"Estimated prevalence of autism and other developmental disabilities following questionnaire changes in the 2014 natiol health interview survey\",\"The increasing prevalence of reported diagnoses of childhood psychiatric disorders: a descriptive multinational comparison\",\"The increasing prevalence of reported diagnoses of childhood psychiatric disorders: a descriptive multinational comparison\",\"The increasing prevalence of reported diagnoses of childhood psychiatric disorders: a descriptive multinational comparison\",\"The increasing prevalence of reported diagnoses of childhood psychiatric disorders: a descriptive multinational comparison\",\"Socioeconomic Disparities and Prevalence of Autism Spectrum Disorders and Intellectual Disability\",\"Changes in prevalence of autism spectrum disorders in 2001-2011: findings from the Stockholm youth cohort\",\"Autism phenotype versus registered diagnosis in Swedish children: prevalence trends over 10 years in general population samples\",\"Incidence and cohort prevalence for autism spectrum disorders in the Avalon Peninsula, Newfoundland and Labrador\",\"Exploring the Underdiagnosis and Prevalence of Autism Spectrum Conditions in Beijing\",\"Low but increasing prevalence of autism spectrum disorders in a French area from register-based data\",\"Trends in the prevalence of autism spectrum disorder, cerebral palsy, hearing loss, intellectual disability, and vision impairment, metropolitan atlanta, 1991-2010\",\"Prevalence of autism spectrum disorders in Ecuador: A pilot study in Quito\",\"Parental Age and Autism Spectrum Disorders Among New York City Children 0-36 Months of Age\",\"Screening for Autism in Iranian Preschoolers: Contrasting M-CHAT and a Scale Developed in Iran\",\"Neurodevelopmental delay among children under the age of three years at immunization clinics in Lagos State, Nigeria - Preliminary report\",\"Operationalisation of the European Protocol for Autism Prevalence (EPAP) for Autism Spectrum Disorder Prevalence Measurement in Ireland\",\"Population-Based Prevalence of Intellectual Disability and Autism Spectrum Disorders in Western Australia: A Comparison With Previous Estimates\",\"Prevalence of Autism Spectrum Disorder in Nurseries in Lebanon: A Cross Sectional Study\",\"Prevalence and characteristics of autism apectrum disorder among 4-year-old children in the Autism and Developmental Disabilities Monitoring Network\",\"Prevalence and socioeconomic correlates of autism among children attending primary and secondary schools in south east Nigeria\",\"Prevalence of autism apectrum aisorders in Guanajuato, Mexico: The Leon survey\",\"Autism spectrum disorder: Presentation and prevalence in a nationally representative Australian sample\",\"Prevalence of autism spectrum disorders in a semiurban community in South India\",\"Prevalence and characteristics of autism spectrum disorders among 8-years -- Autism and developmental disabilities monitoring network, 11 sites, United States, 2012\",\"Autism Spectrum Disorder Among US Children (2002-2010): Socioeconomic, Racial, and Ethnic Disparities\",\"Autism spectrum disorder: Updated prevalence and comparison of two birth cohorts in a nationally representative Australian sample\",\"Prevalence of Autism Spectrum Disorder among Rural, Urban, and Tribal Children (1-10 Years of Age)\",\"Prevalence of autism spectrum disorder and autistic symptoms in a school-based cohort of children in Kolkata, India\",\"The prevalence of autism spectrum disorders in West Pomeranian and Pomeranian Regions of Poland\",\"Brief Report: Estimated Prevalence of a Community Diagnosis of Autism Spectrum Disorder by Age 4 Years in Children from Selected Areas in the United States in 2010: Evaluation of Birth Cohort Effects\",\"Brief Report: Prevalence of Co-occurring Epilepsy and Autism Spectrum Disorder: The U.S. National Survey of Children's Health 2011-2012\",\"Prevalence of Autism Spectrum Disorders with and without Intellectual Disability by Gestational Age at Birth in the Stockholm Youth Cohort: a Register Linkage Study\",\"Estimated Prevalence of Children With Diagnosed Developmental Disabilities in the United States, 2014-2016\",\"The prevalence of parent-reported autism spectrum disorder among US children.\",\"Prevalence of childhood neurodevelopmental disorders across five regions in India\",\"Prevalence of autism spectrum disorder among children aged 8 years - Autism and developmental disabilities monitoring network, 11 sites, United States, 2014\",\"Prevalence of autism spectrum disorder among children and adolescents, 2014-2016\",\"The estimated prevalence of autism in school-aged children living in rural Nepal using a population-based screening tool\",\"Prevalence of long-term health conditions in adults with autism: Prevalence of long-term health conditions in adults with autism: observational study of a whole country population study of a whole country population\",\"Diagnoses of Autism Spectrum Disorders in Germany: Time Trends in Administrative Prevalence and Diagnostic Stability\",\"Prevalence and correlates of autism spectrum disorders in Quebec\",\"California autism prevalence trends from 1931 to 2014 and comparison to national ASD data from IDEA and ADDM\",\"Prevalence of Autism Spectrum Disorder in a large Italian catchment area: a school-based population study within the ASDEU project\",\"Prevalence of DSM-5 Autism Spectrum Disorder Among School-Based Children Aged 3-12\\u00a0Years in Shanghai, China\",\"Prevalence of Autism Spectrum Disorder (ASD) among the children aged 18-36 months in a rural community of Bangladesh: A cross sectional study\",\"Prevalence and Characteristics of Autism Spectrum Disorder Among Spanish School-Age Children\",\"Autism prevalence in Chi is comparable to Western prevalence\",\"The prevalence and treatment patterns of autism spectrum disorder in the United States, 2016\",\"Assessment of racial and ethnic bias in autism spectrum disorder prevalence estimates from a US surveillance system\",\"Prevalence and Trends of Developmental Disabilities among Children in the United States: 2009-2017\",\"Prevalence and characteristics of autism spectrum disorder among children 4 years - Early autism and developmental disabilities monitoring network, seven sites, United Stated, 2010, 2012, and 2014\",\"Revisiting the prevalence of autism spectrum disorder among Omani children: A multicentre study\",\"Prevalence and correlates of autism spectrum disorder in Qatar: A national study\",\"Prevalence of DSM-5 mental disorders in a nationally representative sample of children in Taiwan: Methodology and main findings\",\"Prevalence of autism spectrum disorders and their relation to selected socio-demographic factors among children aged 18-30\\u00a0months in northern Vietnam, 2017\",\"Prevalence of autism and its comorbidities and the relationship with maternal psychopathology: A national population-based study\",\"Temporal and Geographical Variability of Prevalence and Incidence of Autism Spectrum Disorder Diagnoses in Children in Catalonia, Spain\",\"Autism Prevalence in the Medicaid Program and Healthcare Utilization and Costs Among Adult Enrollees Diagnosed with Autism\",\"Annual trends in prevalence and incidence of autism spectrum disorders in Manitoba preschoolers and toddlers: 2004-2015\"],\"locations\":[\"USA\",\"DNK\",\"FIN\",\"SWE\",\"AUS\",\"FRA\",\"SWE\",\"SWE\",\"CAN\",\"CHN\",\"FRA\",\"USA\",\"ECU\",\"USA\",null,\"NGA\",\"IRL\",\"AUS\",\"LBN\",\"USA\",\"NGA\",\"MEX\",\"AUS\",\"IND\",\"USA\",\"USA\",\"AUS\",\"IND\",\"IND\",\"POL\",\"USA\",\"USA\",\"SWE\",\"USA\",\"USA\",\"IND\",\"USA\",\"USA\",\"NPL\",null,\"DEU\",\"CAN\",\"USA\",\"ITA\",\"CHN\",\"BGD\",\"ESP\",\"CHN\",\"USA\",\"USA\",\"USA\",\"USA\",\"OMN\",\"QAT\",null,null,null,\"ESP\",\"USA\",\"CAN\"],\"name\":\"\",\"z\":[22.4,11.4,7.5,6.6,5.0,3.6,15.4,4.2,21.6,11.9,3.65,15.5,1.1,4.3,9.52,1.33,10.0,4.1,15.3,13.4,29.0,8.7,25.0,2.33,14.6,11.9,39.0,1.5,2.3,3.5,8.0,18.0,21.0,24.7,25.0,14.0,16.8,24.7,3.0,1.77,3.8,12.2,11.8,7.9,0.758,0.75,15.5,10.8,27.9,12.6,17.4,17.0,2.04,11.4,10.0,7.52,1.8,12.3,3.66,9.7],\"type\":\"choropleth\"},{\"coloraxis\":\"coloraxis\",\"geo\":\"geo\",\"hovertemplate\":\"<b>%{hovertext}</b><br><br>Year Range=[2020, 2025)<br>alpha-3=%{location}<br>ASD Prevalence Estimate per 1,000=%{z}<extra></extra>\",\"hovertext\":[\"Prevalence of autism spectrum disorder among children aged 8 years - Autism and developmental disabilities monitoring network, 11 sites, United States, 2016\",\"Early identification of autism spectrum disorder among children aged 4 years - Early autism and developmental disabilities monitoring network, six sites, United States, 2016\",\"Prevalence and economic burden of autism spectrum disorder in South Korea using national health insurance data from 2008 to 2015\",\"Prevalence and cumulative incidence of autism spectrum disorders and the patterns of co-occurring neurodevelopmental disorders in a total population sample of 5-year-old children\",\"Prevalence of Children Aged 3-17 Years With Developmental Disabilities, by Urbanicity: United States, 2015-2018\",\"The ASDEU autism prevalence study in northern Spain\",\"Autism spectrum disorder prevalence in children aged 12-13\\u2009years from the Longitudinal Study of Australian Children\",\"Prevalence Estimates of Neurodevelopmental Disorders in Japan: A community sample questionnaire study\",\"Autism Spectrum Disorders in Greece: Nationwide Prevalence in 10-11 Year-Old Children and Regional Disparities\",\"Prevalence of Autism Spectrum Disorder in Chi: A Nationwide Multi-center Population-based Study Among Children Aged 6 to 12 Years\",\"California Autism Prevalence by County and Race/Ethnicity: Declining Trends Among Wealthy Whites\",\"School-Based Autism Rates by State: An Analysis of Demographics, Political Leanings, and Differential Identification\",\"Neurodevelopmental disorders among Spanish school-age children: prevalence and sociodemographic correlates\",\"Identifying Children and Youth with Autism Spectrum Diorder in Electronic Medical Records: Examining Health System Utilization and Comorbidities\",\"Racial/ethnic disparities in the prevalence and trends of autism specrum disorder in US children and adolescents\",\"Autism spectrum disorder prevalence and associated sociodemographic factors in the school population: EPINED study\",\"Prevalence of autism spectrum disorder among Saudi children between 2 and 4 years old in Riyadh\",\"Prevalence of Autism Spectrum Disorder Among Children and Adolescents in the United States From 2019 to 2020\",\"Prevalence and Characteristics of Autism Spectrum Disorder Among Children Aged 8 Years - Autism and Developmental Disabilities Monitoring Network, 11 Sites, United States, 2018\",\"Association of Race/Ethnicity and Social Disadvantage With Autism Prevalence in 7 Million School Children in England\",\"Prevalence of autism spectrum disorder in a large, diverse metropolitan area: Variation by sociodemographic factors\",\"Prevalence of Autism Spectrum Disorder in Children in Andalusia (Spain)\",\"Prevalence and Premature Mortality Statistics of Autism Spectrum Disorder Among Children in Korea: A Nationwide Population-Based Birth Cohort Study\"],\"locations\":[\"USA\",\"USA\",null,\"JPN\",\"USA\",null,\"AUS\",\"JPN\",\"GRC\",\"CHN\",\"USA\",\"USA\",\"ESP\",\"CAN\",\"USA\",\"ESP\",\"SAU\",\"USA\",\"USA\",\"GBR\",\"USA\",\"ESP\",null],\"name\":\"\",\"z\":[18.5,15.6,0.11,32.2,25.0,5.9,43.6,19.0,11.5,7.0,15.0,12.3,7.0,13.2,24.9,15.3,25.0,31.4,23.0,17.6,36.0,8.65,7.12],\"type\":\"choropleth\"}],                        {\"template\":{\"data\":{\"bar\":[{\"error_x\":{\"color\":\"#2a3f5f\"},\"error_y\":{\"color\":\"#2a3f5f\"},\"marker\":{\"line\":{\"color\":\"#E5ECF6\",\"width\":0.5},\"pattern\":{\"fillmode\":\"overlay\",\"size\":10,\"solidity\":0.2}},\"type\":\"bar\"}],\"barpolar\":[{\"marker\":{\"line\":{\"color\":\"#E5ECF6\",\"width\":0.5},\"pattern\":{\"fillmode\":\"overlay\",\"size\":10,\"solidity\":0.2}},\"type\":\"barpolar\"}],\"carpet\":[{\"aaxis\":{\"endlinecolor\":\"#2a3f5f\",\"gridcolor\":\"white\",\"linecolor\":\"white\",\"minorgridcolor\":\"white\",\"startlinecolor\":\"#2a3f5f\"},\"baxis\":{\"endlinecolor\":\"#2a3f5f\",\"gridcolor\":\"white\",\"linecolor\":\"white\",\"minorgridcolor\":\"white\",\"startlinecolor\":\"#2a3f5f\"},\"type\":\"carpet\"}],\"choropleth\":[{\"colorbar\":{\"outlinewidth\":0,\"ticks\":\"\"},\"type\":\"choropleth\"}],\"contour\":[{\"colorbar\":{\"outlinewidth\":0,\"ticks\":\"\"},\"colorscale\":[[0.0,\"#0d0887\"],[0.1111111111111111,\"#46039f\"],[0.2222222222222222,\"#7201a8\"],[0.3333333333333333,\"#9c179e\"],[0.4444444444444444,\"#bd3786\"],[0.5555555555555556,\"#d8576b\"],[0.6666666666666666,\"#ed7953\"],[0.7777777777777778,\"#fb9f3a\"],[0.8888888888888888,\"#fdca26\"],[1.0,\"#f0f921\"]],\"type\":\"contour\"}],\"contourcarpet\":[{\"colorbar\":{\"outlinewidth\":0,\"ticks\":\"\"},\"type\":\"contourcarpet\"}],\"heatmap\":[{\"colorbar\":{\"outlinewidth\":0,\"ticks\":\"\"},\"colorscale\":[[0.0,\"#0d0887\"],[0.1111111111111111,\"#46039f\"],[0.2222222222222222,\"#7201a8\"],[0.3333333333333333,\"#9c179e\"],[0.4444444444444444,\"#bd3786\"],[0.5555555555555556,\"#d8576b\"],[0.6666666666666666,\"#ed7953\"],[0.7777777777777778,\"#fb9f3a\"],[0.8888888888888888,\"#fdca26\"],[1.0,\"#f0f921\"]],\"type\":\"heatmap\"}],\"heatmapgl\":[{\"colorbar\":{\"outlinewidth\":0,\"ticks\":\"\"},\"colorscale\":[[0.0,\"#0d0887\"],[0.1111111111111111,\"#46039f\"],[0.2222222222222222,\"#7201a8\"],[0.3333333333333333,\"#9c179e\"],[0.4444444444444444,\"#bd3786\"],[0.5555555555555556,\"#d8576b\"],[0.6666666666666666,\"#ed7953\"],[0.7777777777777778,\"#fb9f3a\"],[0.8888888888888888,\"#fdca26\"],[1.0,\"#f0f921\"]],\"type\":\"heatmapgl\"}],\"histogram\":[{\"marker\":{\"pattern\":{\"fillmode\":\"overlay\",\"size\":10,\"solidity\":0.2}},\"type\":\"histogram\"}],\"histogram2d\":[{\"colorbar\":{\"outlinewidth\":0,\"ticks\":\"\"},\"colorscale\":[[0.0,\"#0d0887\"],[0.1111111111111111,\"#46039f\"],[0.2222222222222222,\"#7201a8\"],[0.3333333333333333,\"#9c179e\"],[0.4444444444444444,\"#bd3786\"],[0.5555555555555556,\"#d8576b\"],[0.6666666666666666,\"#ed7953\"],[0.7777777777777778,\"#fb9f3a\"],[0.8888888888888888,\"#fdca26\"],[1.0,\"#f0f921\"]],\"type\":\"histogram2d\"}],\"histogram2dcontour\":[{\"colorbar\":{\"outlinewidth\":0,\"ticks\":\"\"},\"colorscale\":[[0.0,\"#0d0887\"],[0.1111111111111111,\"#46039f\"],[0.2222222222222222,\"#7201a8\"],[0.3333333333333333,\"#9c179e\"],[0.4444444444444444,\"#bd3786\"],[0.5555555555555556,\"#d8576b\"],[0.6666666666666666,\"#ed7953\"],[0.7777777777777778,\"#fb9f3a\"],[0.8888888888888888,\"#fdca26\"],[1.0,\"#f0f921\"]],\"type\":\"histogram2dcontour\"}],\"mesh3d\":[{\"colorbar\":{\"outlinewidth\":0,\"ticks\":\"\"},\"type\":\"mesh3d\"}],\"parcoords\":[{\"line\":{\"colorbar\":{\"outlinewidth\":0,\"ticks\":\"\"}},\"type\":\"parcoords\"}],\"pie\":[{\"automargin\":true,\"type\":\"pie\"}],\"scatter\":[{\"marker\":{\"colorbar\":{\"outlinewidth\":0,\"ticks\":\"\"}},\"type\":\"scatter\"}],\"scatter3d\":[{\"line\":{\"colorbar\":{\"outlinewidth\":0,\"ticks\":\"\"}},\"marker\":{\"colorbar\":{\"outlinewidth\":0,\"ticks\":\"\"}},\"type\":\"scatter3d\"}],\"scattercarpet\":[{\"marker\":{\"colorbar\":{\"outlinewidth\":0,\"ticks\":\"\"}},\"type\":\"scattercarpet\"}],\"scattergeo\":[{\"marker\":{\"colorbar\":{\"outlinewidth\":0,\"ticks\":\"\"}},\"type\":\"scattergeo\"}],\"scattergl\":[{\"marker\":{\"colorbar\":{\"outlinewidth\":0,\"ticks\":\"\"}},\"type\":\"scattergl\"}],\"scattermapbox\":[{\"marker\":{\"colorbar\":{\"outlinewidth\":0,\"ticks\":\"\"}},\"type\":\"scattermapbox\"}],\"scatterpolar\":[{\"marker\":{\"colorbar\":{\"outlinewidth\":0,\"ticks\":\"\"}},\"type\":\"scatterpolar\"}],\"scatterpolargl\":[{\"marker\":{\"colorbar\":{\"outlinewidth\":0,\"ticks\":\"\"}},\"type\":\"scatterpolargl\"}],\"scatterternary\":[{\"marker\":{\"colorbar\":{\"outlinewidth\":0,\"ticks\":\"\"}},\"type\":\"scatterternary\"}],\"surface\":[{\"colorbar\":{\"outlinewidth\":0,\"ticks\":\"\"},\"colorscale\":[[0.0,\"#0d0887\"],[0.1111111111111111,\"#46039f\"],[0.2222222222222222,\"#7201a8\"],[0.3333333333333333,\"#9c179e\"],[0.4444444444444444,\"#bd3786\"],[0.5555555555555556,\"#d8576b\"],[0.6666666666666666,\"#ed7953\"],[0.7777777777777778,\"#fb9f3a\"],[0.8888888888888888,\"#fdca26\"],[1.0,\"#f0f921\"]],\"type\":\"surface\"}],\"table\":[{\"cells\":{\"fill\":{\"color\":\"#EBF0F8\"},\"line\":{\"color\":\"white\"}},\"header\":{\"fill\":{\"color\":\"#C8D4E3\"},\"line\":{\"color\":\"white\"}},\"type\":\"table\"}]},\"layout\":{\"annotationdefaults\":{\"arrowcolor\":\"#2a3f5f\",\"arrowhead\":0,\"arrowwidth\":1},\"autotypenumbers\":\"strict\",\"coloraxis\":{\"colorbar\":{\"outlinewidth\":0,\"ticks\":\"\"}},\"colorscale\":{\"diverging\":[[0,\"#8e0152\"],[0.1,\"#c51b7d\"],[0.2,\"#de77ae\"],[0.3,\"#f1b6da\"],[0.4,\"#fde0ef\"],[0.5,\"#f7f7f7\"],[0.6,\"#e6f5d0\"],[0.7,\"#b8e186\"],[0.8,\"#7fbc41\"],[0.9,\"#4d9221\"],[1,\"#276419\"]],\"sequential\":[[0.0,\"#0d0887\"],[0.1111111111111111,\"#46039f\"],[0.2222222222222222,\"#7201a8\"],[0.3333333333333333,\"#9c179e\"],[0.4444444444444444,\"#bd3786\"],[0.5555555555555556,\"#d8576b\"],[0.6666666666666666,\"#ed7953\"],[0.7777777777777778,\"#fb9f3a\"],[0.8888888888888888,\"#fdca26\"],[1.0,\"#f0f921\"]],\"sequentialminus\":[[0.0,\"#0d0887\"],[0.1111111111111111,\"#46039f\"],[0.2222222222222222,\"#7201a8\"],[0.3333333333333333,\"#9c179e\"],[0.4444444444444444,\"#bd3786\"],[0.5555555555555556,\"#d8576b\"],[0.6666666666666666,\"#ed7953\"],[0.7777777777777778,\"#fb9f3a\"],[0.8888888888888888,\"#fdca26\"],[1.0,\"#f0f921\"]]},\"colorway\":[\"#636efa\",\"#EF553B\",\"#00cc96\",\"#ab63fa\",\"#FFA15A\",\"#19d3f3\",\"#FF6692\",\"#B6E880\",\"#FF97FF\",\"#FECB52\"],\"font\":{\"color\":\"#2a3f5f\"},\"geo\":{\"bgcolor\":\"white\",\"lakecolor\":\"white\",\"landcolor\":\"#E5ECF6\",\"showlakes\":true,\"showland\":true,\"subunitcolor\":\"white\"},\"hoverlabel\":{\"align\":\"left\"},\"hovermode\":\"closest\",\"mapbox\":{\"style\":\"light\"},\"paper_bgcolor\":\"white\",\"plot_bgcolor\":\"#E5ECF6\",\"polar\":{\"angularaxis\":{\"gridcolor\":\"white\",\"linecolor\":\"white\",\"ticks\":\"\"},\"bgcolor\":\"#E5ECF6\",\"radialaxis\":{\"gridcolor\":\"white\",\"linecolor\":\"white\",\"ticks\":\"\"}},\"scene\":{\"xaxis\":{\"backgroundcolor\":\"#E5ECF6\",\"gridcolor\":\"white\",\"gridwidth\":2,\"linecolor\":\"white\",\"showbackground\":true,\"ticks\":\"\",\"zerolinecolor\":\"white\"},\"yaxis\":{\"backgroundcolor\":\"#E5ECF6\",\"gridcolor\":\"white\",\"gridwidth\":2,\"linecolor\":\"white\",\"showbackground\":true,\"ticks\":\"\",\"zerolinecolor\":\"white\"},\"zaxis\":{\"backgroundcolor\":\"#E5ECF6\",\"gridcolor\":\"white\",\"gridwidth\":2,\"linecolor\":\"white\",\"showbackground\":true,\"ticks\":\"\",\"zerolinecolor\":\"white\"}},\"shapedefaults\":{\"line\":{\"color\":\"#2a3f5f\"}},\"ternary\":{\"aaxis\":{\"gridcolor\":\"white\",\"linecolor\":\"white\",\"ticks\":\"\"},\"baxis\":{\"gridcolor\":\"white\",\"linecolor\":\"white\",\"ticks\":\"\"},\"bgcolor\":\"#E5ECF6\",\"caxis\":{\"gridcolor\":\"white\",\"linecolor\":\"white\",\"ticks\":\"\"}},\"title\":{\"x\":0.05},\"xaxis\":{\"automargin\":true,\"gridcolor\":\"white\",\"linecolor\":\"white\",\"ticks\":\"\",\"title\":{\"standoff\":15},\"zerolinecolor\":\"white\",\"zerolinewidth\":2},\"yaxis\":{\"automargin\":true,\"gridcolor\":\"white\",\"linecolor\":\"white\",\"ticks\":\"\",\"title\":{\"standoff\":15},\"zerolinecolor\":\"white\",\"zerolinewidth\":2}}},\"geo\":{\"domain\":{\"x\":[0.0,0.98],\"y\":[0.0,0.05583333333333333]},\"center\":{}},\"geo2\":{\"domain\":{\"x\":[0.0,0.98],\"y\":[0.08583333333333333,0.14166666666666666]},\"center\":{}},\"geo3\":{\"domain\":{\"x\":[0.0,0.98],\"y\":[0.17166666666666666,0.22749999999999998]},\"center\":{}},\"geo4\":{\"domain\":{\"x\":[0.0,0.98],\"y\":[0.25749999999999995,0.3133333333333333]},\"center\":{}},\"geo5\":{\"domain\":{\"x\":[0.0,0.98],\"y\":[0.3433333333333333,0.39916666666666667]},\"center\":{}},\"geo6\":{\"domain\":{\"x\":[0.0,0.98],\"y\":[0.4291666666666667,0.48500000000000004]},\"center\":{}},\"geo7\":{\"domain\":{\"x\":[0.0,0.98],\"y\":[0.515,0.5708333333333333]},\"center\":{}},\"geo8\":{\"domain\":{\"x\":[0.0,0.98],\"y\":[0.6008333333333333,0.6566666666666666]},\"center\":{}},\"geo9\":{\"domain\":{\"x\":[0.0,0.98],\"y\":[0.6866666666666668,0.7425]},\"center\":{}},\"geo10\":{\"domain\":{\"x\":[0.0,0.98],\"y\":[0.7725000000000001,0.8283333333333334]},\"center\":{}},\"geo11\":{\"domain\":{\"x\":[0.0,0.98],\"y\":[0.8583333333333334,0.9141666666666667]},\"center\":{}},\"geo12\":{\"domain\":{\"x\":[0.0,0.98],\"y\":[0.9441666666666666,0.9999999999999999]},\"center\":{}},\"annotations\":[{\"font\":{},\"showarrow\":false,\"text\":\"Year Range=[2020, 2025)\",\"textangle\":90,\"x\":0.98,\"xanchor\":\"left\",\"xref\":\"paper\",\"y\":0.027916666666666666,\"yanchor\":\"middle\",\"yref\":\"paper\"},{\"font\":{},\"showarrow\":false,\"text\":\"Year Range=[2015, 2020)\",\"textangle\":90,\"x\":0.98,\"xanchor\":\"left\",\"xref\":\"paper\",\"y\":0.11374999999999999,\"yanchor\":\"middle\",\"yref\":\"paper\"},{\"font\":{},\"showarrow\":false,\"text\":\"Year Range=[2010, 2015)\",\"textangle\":90,\"x\":0.98,\"xanchor\":\"left\",\"xref\":\"paper\",\"y\":0.19958333333333333,\"yanchor\":\"middle\",\"yref\":\"paper\"},{\"font\":{},\"showarrow\":false,\"text\":\"Year Range=[2005, 2010)\",\"textangle\":90,\"x\":0.98,\"xanchor\":\"left\",\"xref\":\"paper\",\"y\":0.28541666666666665,\"yanchor\":\"middle\",\"yref\":\"paper\"},{\"font\":{},\"showarrow\":false,\"text\":\"Year Range=[2000, 2005)\",\"textangle\":90,\"x\":0.98,\"xanchor\":\"left\",\"xref\":\"paper\",\"y\":0.37124999999999997,\"yanchor\":\"middle\",\"yref\":\"paper\"},{\"font\":{},\"showarrow\":false,\"text\":\"Year Range=[1995, 2000)\",\"textangle\":90,\"x\":0.98,\"xanchor\":\"left\",\"xref\":\"paper\",\"y\":0.4570833333333334,\"yanchor\":\"middle\",\"yref\":\"paper\"},{\"font\":{},\"showarrow\":false,\"text\":\"Year Range=[1990, 1995)\",\"textangle\":90,\"x\":0.98,\"xanchor\":\"left\",\"xref\":\"paper\",\"y\":0.5429166666666667,\"yanchor\":\"middle\",\"yref\":\"paper\"},{\"font\":{},\"showarrow\":false,\"text\":\"Year Range=[1985, 1990)\",\"textangle\":90,\"x\":0.98,\"xanchor\":\"left\",\"xref\":\"paper\",\"y\":0.6287499999999999,\"yanchor\":\"middle\",\"yref\":\"paper\"},{\"font\":{},\"showarrow\":false,\"text\":\"Year Range=[1980, 1985)\",\"textangle\":90,\"x\":0.98,\"xanchor\":\"left\",\"xref\":\"paper\",\"y\":0.7145833333333333,\"yanchor\":\"middle\",\"yref\":\"paper\"},{\"font\":{},\"showarrow\":false,\"text\":\"Year Range=[1975, 1980)\",\"textangle\":90,\"x\":0.98,\"xanchor\":\"left\",\"xref\":\"paper\",\"y\":0.8004166666666668,\"yanchor\":\"middle\",\"yref\":\"paper\"},{\"font\":{},\"showarrow\":false,\"text\":\"Year Range=[1970, 1975)\",\"textangle\":90,\"x\":0.98,\"xanchor\":\"left\",\"xref\":\"paper\",\"y\":0.88625,\"yanchor\":\"middle\",\"yref\":\"paper\"},{\"font\":{},\"showarrow\":false,\"text\":\"Year Range=[1965, 1970)\",\"textangle\":90,\"x\":0.98,\"xanchor\":\"left\",\"xref\":\"paper\",\"y\":0.9720833333333332,\"yanchor\":\"middle\",\"yref\":\"paper\"}],\"coloraxis\":{\"colorbar\":{\"title\":{\"text\":\"ASD Prevalence Estimate per 1,000\"}},\"colorscale\":[[0.0,\"#440154\"],[0.1111111111111111,\"#482878\"],[0.2222222222222222,\"#3e4989\"],[0.3333333333333333,\"#31688e\"],[0.4444444444444444,\"#26828e\"],[0.5555555555555556,\"#1f9e89\"],[0.6666666666666666,\"#35b779\"],[0.7777777777777778,\"#6ece58\"],[0.8888888888888888,\"#b5de2b\"],[1.0,\"#fde725\"]],\"cmin\":0,\"cmax\":12},\"legend\":{\"tracegroupgap\":0},\"margin\":{\"t\":60},\"height\":2000,\"width\":3000},                        {\"responsive\": true}                    ).then(function(){\n",
       "                            \n",
       "var gd = document.getElementById('8b0d95cd-392a-431b-b131-692e96c0fa11');\n",
       "var x = new MutationObserver(function (mutations, observer) {{\n",
       "        var display = window.getComputedStyle(gd).display;\n",
       "        if (!display || display === 'none') {{\n",
       "            console.log([gd, 'removed!']);\n",
       "            Plotly.purge(gd);\n",
       "            observer.disconnect();\n",
       "        }}\n",
       "}});\n",
       "\n",
       "// Listen for the removal of the full notebook cells\n",
       "var notebookContainer = gd.closest('#notebook-container');\n",
       "if (notebookContainer) {{\n",
       "    x.observe(notebookContainer, {childList: true});\n",
       "}}\n",
       "\n",
       "// Listen for the clearing of the current output cell\n",
       "var outputEl = gd.closest('.output');\n",
       "if (outputEl) {{\n",
       "    x.observe(outputEl, {childList: true});\n",
       "}}\n",
       "\n",
       "                        })                };                });            </script>        </div>"
      ]
     },
     "metadata": {},
     "output_type": "display_data"
    }
   ],
   "source": [
    "fig = px.choropleth(merged_data, locations='alpha-3', color='ASD Prevalence Estimate per 1,000',\n",
    "                    hover_name= 'Title',\n",
    "                    color_continuous_scale=\"Viridis\",\n",
    "                    range_color=(0, 12),\n",
    "                    facet_row='Year Range',\n",
    "                    labels={'Year Range': 'Year Range'},\n",
    "                    width = 2000,\n",
    "                    height = 1500)\n",
    "\n",
    "fig.update_layout(\n",
    "    height=2000, \n",
    "    width=3000,  \n",
    ")\n",
    "\n",
    "fig.show()"
   ]
  },
  {
   "cell_type": "code",
   "execution_count": null,
   "id": "dbec3e42",
   "metadata": {},
   "outputs": [],
   "source": []
  },
  {
   "cell_type": "code",
   "execution_count": null,
   "id": "ccc4a9ff",
   "metadata": {},
   "outputs": [],
   "source": []
  }
 ],
 "metadata": {
  "kernelspec": {
   "display_name": "Python 3 (ipykernel)",
   "language": "python",
   "name": "python3"
  },
  "language_info": {
   "codemirror_mode": {
    "name": "ipython",
    "version": 3
   },
   "file_extension": ".py",
   "mimetype": "text/x-python",
   "name": "python",
   "nbconvert_exporter": "python",
   "pygments_lexer": "ipython3",
   "version": "3.9.12"
  }
 },
 "nbformat": 4,
 "nbformat_minor": 5
}
